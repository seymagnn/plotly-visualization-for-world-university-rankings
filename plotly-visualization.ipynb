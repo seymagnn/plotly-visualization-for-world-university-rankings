{
 "cells": [
  {
   "cell_type": "markdown",
   "id": "b8a1d8dd",
   "metadata": {
    "papermill": {
     "duration": 0.011327,
     "end_time": "2025-01-09T09:35:10.426500",
     "exception": false,
     "start_time": "2025-01-09T09:35:10.415173",
     "status": "completed"
    },
    "tags": []
   },
   "source": [
    "# **World University Rankings Visualizations and Analysis with Plotly**"
   ]
  },
  {
   "cell_type": "markdown",
   "id": "3b6a7c18",
   "metadata": {
    "papermill": {
     "duration": 0.009566,
     "end_time": "2025-01-09T09:35:10.446419",
     "exception": false,
     "start_time": "2025-01-09T09:35:10.436853",
     "status": "completed"
    },
    "tags": []
   },
   "source": [
    "## Loading Libraries, Data and Explaining the Variables\n",
    "Loading libraries, importing the dataset, and providing a brief explanation of the variables are the essential first steps in data analysis, ensuring that the necessary tools and data are ready for exploration and understanding."
   ]
  },
  {
   "cell_type": "code",
   "execution_count": 1,
   "id": "84dc01b4",
   "metadata": {
    "_cell_guid": "b1076dfc-b9ad-4769-8c92-a6c4dae69d19",
    "_uuid": "8f2839f25d086af736a60e9eeb907d3b93b6e0e5",
    "execution": {
     "iopub.execute_input": "2025-01-09T09:35:10.468483Z",
     "iopub.status.busy": "2025-01-09T09:35:10.468105Z",
     "iopub.status.idle": "2025-01-09T09:35:11.515814Z",
     "shell.execute_reply": "2025-01-09T09:35:11.514756Z"
    },
    "papermill": {
     "duration": 1.061019,
     "end_time": "2025-01-09T09:35:11.517922",
     "exception": false,
     "start_time": "2025-01-09T09:35:10.456903",
     "status": "completed"
    },
    "tags": []
   },
   "outputs": [
    {
     "data": {
      "text/html": [
       "        <script type=\"text/javascript\">\n",
       "        window.PlotlyConfig = {MathJaxConfig: 'local'};\n",
       "        if (window.MathJax && window.MathJax.Hub && window.MathJax.Hub.Config) {window.MathJax.Hub.Config({SVG: {font: \"STIX-Web\"}});}\n",
       "        if (typeof require !== 'undefined') {\n",
       "        require.undef(\"plotly\");\n",
       "        requirejs.config({\n",
       "            paths: {\n",
       "                'plotly': ['https://cdn.plot.ly/plotly-2.35.2.min']\n",
       "            }\n",
       "        });\n",
       "        require(['plotly'], function(Plotly) {\n",
       "            window._Plotly = Plotly;\n",
       "        });\n",
       "        }\n",
       "        </script>\n",
       "        "
      ]
     },
     "metadata": {},
     "output_type": "display_data"
    }
   ],
   "source": [
    "# Import necessary libraries\n",
    "import pandas as pd  # For data manipulation and analysis\n",
    "import matplotlib.pyplot as plt  # For additional data visualization\n",
    "import numpy as np  # For numerical operations\n",
    "import plotly as py  # For creating interactive graphs\n",
    "import plotly.graph_objs as go  # For defining plotly graph objects \n",
    "from plotly.offline import init_notebook_mode, plot, iplot  # For offline plotting\n",
    "init_notebook_mode(connected=True)"
   ]
  },
  {
   "cell_type": "code",
   "execution_count": 3,
   "id": "62635b04",
   "metadata": {
    "execution": {
     "iopub.execute_input": "2025-01-09T09:35:11.540134Z",
     "iopub.status.busy": "2025-01-09T09:35:11.539755Z",
     "iopub.status.idle": "2025-01-09T09:35:11.600912Z",
     "shell.execute_reply": "2025-01-09T09:35:11.599755Z"
    },
    "papermill": {
     "duration": 0.074711,
     "end_time": "2025-01-09T09:35:11.602953",
     "exception": false,
     "start_time": "2025-01-09T09:35:11.528242",
     "status": "completed"
    },
    "tags": []
   },
   "outputs": [
    {
     "data": {
      "text/html": [
       "<div>\n",
       "<style scoped>\n",
       "    .dataframe tbody tr th:only-of-type {\n",
       "        vertical-align: middle;\n",
       "    }\n",
       "\n",
       "    .dataframe tbody tr th {\n",
       "        vertical-align: top;\n",
       "    }\n",
       "\n",
       "    .dataframe thead th {\n",
       "        text-align: right;\n",
       "    }\n",
       "</style>\n",
       "<table border=\"1\" class=\"dataframe\">\n",
       "  <thead>\n",
       "    <tr style=\"text-align: right;\">\n",
       "      <th></th>\n",
       "      <th>world_rank</th>\n",
       "      <th>university_name</th>\n",
       "      <th>country</th>\n",
       "      <th>teaching</th>\n",
       "      <th>international</th>\n",
       "      <th>research</th>\n",
       "      <th>citations</th>\n",
       "      <th>income</th>\n",
       "      <th>total_score</th>\n",
       "      <th>num_students</th>\n",
       "      <th>student_staff_ratio</th>\n",
       "      <th>international_students</th>\n",
       "      <th>female_male_ratio</th>\n",
       "      <th>year</th>\n",
       "    </tr>\n",
       "  </thead>\n",
       "  <tbody>\n",
       "    <tr>\n",
       "      <th>0</th>\n",
       "      <td>1</td>\n",
       "      <td>Harvard University</td>\n",
       "      <td>United States of America</td>\n",
       "      <td>99.7</td>\n",
       "      <td>72.4</td>\n",
       "      <td>98.7</td>\n",
       "      <td>98.8</td>\n",
       "      <td>34.5</td>\n",
       "      <td>96.1</td>\n",
       "      <td>20,152</td>\n",
       "      <td>8.9</td>\n",
       "      <td>25%</td>\n",
       "      <td>NaN</td>\n",
       "      <td>2011</td>\n",
       "    </tr>\n",
       "    <tr>\n",
       "      <th>1</th>\n",
       "      <td>2</td>\n",
       "      <td>California Institute of Technology</td>\n",
       "      <td>United States of America</td>\n",
       "      <td>97.7</td>\n",
       "      <td>54.6</td>\n",
       "      <td>98.0</td>\n",
       "      <td>99.9</td>\n",
       "      <td>83.7</td>\n",
       "      <td>96.0</td>\n",
       "      <td>2,243</td>\n",
       "      <td>6.9</td>\n",
       "      <td>27%</td>\n",
       "      <td>33 : 67</td>\n",
       "      <td>2011</td>\n",
       "    </tr>\n",
       "    <tr>\n",
       "      <th>2</th>\n",
       "      <td>3</td>\n",
       "      <td>Massachusetts Institute of Technology</td>\n",
       "      <td>United States of America</td>\n",
       "      <td>97.8</td>\n",
       "      <td>82.3</td>\n",
       "      <td>91.4</td>\n",
       "      <td>99.9</td>\n",
       "      <td>87.5</td>\n",
       "      <td>95.6</td>\n",
       "      <td>11,074</td>\n",
       "      <td>9.0</td>\n",
       "      <td>33%</td>\n",
       "      <td>37 : 63</td>\n",
       "      <td>2011</td>\n",
       "    </tr>\n",
       "    <tr>\n",
       "      <th>3</th>\n",
       "      <td>4</td>\n",
       "      <td>Stanford University</td>\n",
       "      <td>United States of America</td>\n",
       "      <td>98.3</td>\n",
       "      <td>29.5</td>\n",
       "      <td>98.1</td>\n",
       "      <td>99.2</td>\n",
       "      <td>64.3</td>\n",
       "      <td>94.3</td>\n",
       "      <td>15,596</td>\n",
       "      <td>7.8</td>\n",
       "      <td>22%</td>\n",
       "      <td>42 : 58</td>\n",
       "      <td>2011</td>\n",
       "    </tr>\n",
       "    <tr>\n",
       "      <th>4</th>\n",
       "      <td>5</td>\n",
       "      <td>Princeton University</td>\n",
       "      <td>United States of America</td>\n",
       "      <td>90.9</td>\n",
       "      <td>70.3</td>\n",
       "      <td>95.4</td>\n",
       "      <td>99.9</td>\n",
       "      <td>-</td>\n",
       "      <td>94.2</td>\n",
       "      <td>7,929</td>\n",
       "      <td>8.4</td>\n",
       "      <td>27%</td>\n",
       "      <td>45 : 55</td>\n",
       "      <td>2011</td>\n",
       "    </tr>\n",
       "  </tbody>\n",
       "</table>\n",
       "</div>"
      ],
      "text/plain": [
       "  world_rank                        university_name                   country  \\\n",
       "0          1                     Harvard University  United States of America   \n",
       "1          2     California Institute of Technology  United States of America   \n",
       "2          3  Massachusetts Institute of Technology  United States of America   \n",
       "3          4                    Stanford University  United States of America   \n",
       "4          5                   Princeton University  United States of America   \n",
       "\n",
       "   teaching international  research  citations income total_score  \\\n",
       "0      99.7          72.4      98.7       98.8   34.5        96.1   \n",
       "1      97.7          54.6      98.0       99.9   83.7        96.0   \n",
       "2      97.8          82.3      91.4       99.9   87.5        95.6   \n",
       "3      98.3          29.5      98.1       99.2   64.3        94.3   \n",
       "4      90.9          70.3      95.4       99.9      -        94.2   \n",
       "\n",
       "  num_students  student_staff_ratio international_students female_male_ratio  \\\n",
       "0       20,152                  8.9                    25%               NaN   \n",
       "1        2,243                  6.9                    27%           33 : 67   \n",
       "2       11,074                  9.0                    33%           37 : 63   \n",
       "3       15,596                  7.8                    22%           42 : 58   \n",
       "4        7,929                  8.4                    27%           45 : 55   \n",
       "\n",
       "   year  \n",
       "0  2011  \n",
       "1  2011  \n",
       "2  2011  \n",
       "3  2011  \n",
       "4  2011  "
      ]
     },
     "execution_count": 3,
     "metadata": {},
     "output_type": "execute_result"
    }
   ],
   "source": [
    "# Load the World University Rankings dataset from a CSV file\n",
    "data = pd.read_csv(\"/Users/seymagunonu/Desktop/timesData.csv\")  # Reads the dataset into a Pandas DataFrame (YOU NEED TO ORGANIZE BY YOUR OWN FILE PATH!!)\n",
    "data.head(5)  # Displays the first 5 rows of the dataset to preview its structure"
   ]
  },
  {
   "cell_type": "code",
   "execution_count": 4,
   "id": "7af0bc35",
   "metadata": {
    "execution": {
     "iopub.execute_input": "2025-01-09T09:35:11.628117Z",
     "iopub.status.busy": "2025-01-09T09:35:11.627723Z",
     "iopub.status.idle": "2025-01-09T09:35:11.645897Z",
     "shell.execute_reply": "2025-01-09T09:35:11.644809Z"
    },
    "papermill": {
     "duration": 0.031556,
     "end_time": "2025-01-09T09:35:11.647561",
     "exception": false,
     "start_time": "2025-01-09T09:35:11.616005",
     "status": "completed"
    },
    "tags": []
   },
   "outputs": [
    {
     "data": {
      "text/html": [
       "<div>\n",
       "<style scoped>\n",
       "    .dataframe tbody tr th:only-of-type {\n",
       "        vertical-align: middle;\n",
       "    }\n",
       "\n",
       "    .dataframe tbody tr th {\n",
       "        vertical-align: top;\n",
       "    }\n",
       "\n",
       "    .dataframe thead th {\n",
       "        text-align: right;\n",
       "    }\n",
       "</style>\n",
       "<table border=\"1\" class=\"dataframe\">\n",
       "  <thead>\n",
       "    <tr style=\"text-align: right;\">\n",
       "      <th></th>\n",
       "      <th>world_rank</th>\n",
       "      <th>university_name</th>\n",
       "      <th>country</th>\n",
       "      <th>teaching</th>\n",
       "      <th>international</th>\n",
       "      <th>research</th>\n",
       "      <th>citations</th>\n",
       "      <th>income</th>\n",
       "      <th>total_score</th>\n",
       "      <th>num_students</th>\n",
       "      <th>student_staff_ratio</th>\n",
       "      <th>international_students</th>\n",
       "      <th>female_male_ratio</th>\n",
       "      <th>year</th>\n",
       "    </tr>\n",
       "  </thead>\n",
       "  <tbody>\n",
       "    <tr>\n",
       "      <th>2598</th>\n",
       "      <td>601-800</td>\n",
       "      <td>Yeungnam University</td>\n",
       "      <td>South Korea</td>\n",
       "      <td>18.6</td>\n",
       "      <td>24.3</td>\n",
       "      <td>10.9</td>\n",
       "      <td>26.5</td>\n",
       "      <td>35.4</td>\n",
       "      <td>-</td>\n",
       "      <td>21,958</td>\n",
       "      <td>15.3</td>\n",
       "      <td>3%</td>\n",
       "      <td>48 : 52</td>\n",
       "      <td>2016</td>\n",
       "    </tr>\n",
       "    <tr>\n",
       "      <th>2599</th>\n",
       "      <td>601-800</td>\n",
       "      <td>Yıldız Technical University</td>\n",
       "      <td>Turkey</td>\n",
       "      <td>14.5</td>\n",
       "      <td>14.9</td>\n",
       "      <td>7.6</td>\n",
       "      <td>19.3</td>\n",
       "      <td>44.0</td>\n",
       "      <td>-</td>\n",
       "      <td>31,268</td>\n",
       "      <td>28.7</td>\n",
       "      <td>2%</td>\n",
       "      <td>36 : 64</td>\n",
       "      <td>2016</td>\n",
       "    </tr>\n",
       "    <tr>\n",
       "      <th>2600</th>\n",
       "      <td>601-800</td>\n",
       "      <td>Yokohama City University</td>\n",
       "      <td>Japan</td>\n",
       "      <td>24.0</td>\n",
       "      <td>16.1</td>\n",
       "      <td>10.2</td>\n",
       "      <td>36.4</td>\n",
       "      <td>37.9</td>\n",
       "      <td>-</td>\n",
       "      <td>4,122</td>\n",
       "      <td>3.7</td>\n",
       "      <td>3%</td>\n",
       "      <td>NaN</td>\n",
       "      <td>2016</td>\n",
       "    </tr>\n",
       "    <tr>\n",
       "      <th>2601</th>\n",
       "      <td>601-800</td>\n",
       "      <td>Yokohama National University</td>\n",
       "      <td>Japan</td>\n",
       "      <td>20.1</td>\n",
       "      <td>23.3</td>\n",
       "      <td>16.0</td>\n",
       "      <td>13.5</td>\n",
       "      <td>40.4</td>\n",
       "      <td>-</td>\n",
       "      <td>10,117</td>\n",
       "      <td>12.1</td>\n",
       "      <td>8%</td>\n",
       "      <td>28 : 72</td>\n",
       "      <td>2016</td>\n",
       "    </tr>\n",
       "    <tr>\n",
       "      <th>2602</th>\n",
       "      <td>601-800</td>\n",
       "      <td>Yuan Ze University</td>\n",
       "      <td>Taiwan</td>\n",
       "      <td>16.2</td>\n",
       "      <td>17.7</td>\n",
       "      <td>18.3</td>\n",
       "      <td>28.6</td>\n",
       "      <td>39.8</td>\n",
       "      <td>-</td>\n",
       "      <td>8,663</td>\n",
       "      <td>20.6</td>\n",
       "      <td>4%</td>\n",
       "      <td>43 : 57</td>\n",
       "      <td>2016</td>\n",
       "    </tr>\n",
       "  </tbody>\n",
       "</table>\n",
       "</div>"
      ],
      "text/plain": [
       "     world_rank               university_name      country  teaching  \\\n",
       "2598    601-800           Yeungnam University  South Korea      18.6   \n",
       "2599    601-800   Yıldız Technical University       Turkey      14.5   \n",
       "2600    601-800      Yokohama City University        Japan      24.0   \n",
       "2601    601-800  Yokohama National University        Japan      20.1   \n",
       "2602    601-800            Yuan Ze University       Taiwan      16.2   \n",
       "\n",
       "     international  research  citations income total_score num_students  \\\n",
       "2598          24.3      10.9       26.5   35.4           -       21,958   \n",
       "2599          14.9       7.6       19.3   44.0           -       31,268   \n",
       "2600          16.1      10.2       36.4   37.9           -        4,122   \n",
       "2601          23.3      16.0       13.5   40.4           -       10,117   \n",
       "2602          17.7      18.3       28.6   39.8           -        8,663   \n",
       "\n",
       "      student_staff_ratio international_students female_male_ratio  year  \n",
       "2598                 15.3                     3%           48 : 52  2016  \n",
       "2599                 28.7                     2%           36 : 64  2016  \n",
       "2600                  3.7                     3%               NaN  2016  \n",
       "2601                 12.1                     8%           28 : 72  2016  \n",
       "2602                 20.6                     4%           43 : 57  2016  "
      ]
     },
     "execution_count": 4,
     "metadata": {},
     "output_type": "execute_result"
    }
   ],
   "source": [
    "data.tail(5)  # Displays the last 5 rows of the dataset to preview its structure"
   ]
  },
  {
   "cell_type": "code",
   "execution_count": 5,
   "id": "c4c81707",
   "metadata": {
    "execution": {
     "iopub.execute_input": "2025-01-09T09:35:11.670461Z",
     "iopub.status.busy": "2025-01-09T09:35:11.670081Z",
     "iopub.status.idle": "2025-01-09T09:35:11.678075Z",
     "shell.execute_reply": "2025-01-09T09:35:11.676768Z"
    },
    "papermill": {
     "duration": 0.021406,
     "end_time": "2025-01-09T09:35:11.679930",
     "exception": false,
     "start_time": "2025-01-09T09:35:11.658524",
     "status": "completed"
    },
    "tags": []
   },
   "outputs": [
    {
     "data": {
      "text/plain": [
       "Index(['world_rank', 'university_name', 'country', 'teaching', 'international',\n",
       "       'research', 'citations', 'income', 'total_score', 'num_students',\n",
       "       'student_staff_ratio', 'international_students', 'female_male_ratio',\n",
       "       'year'],\n",
       "      dtype='object')"
      ]
     },
     "execution_count": 5,
     "metadata": {},
     "output_type": "execute_result"
    }
   ],
   "source": [
    "data.columns  # Lists all column names in the dataset to understand its structure"
   ]
  },
  {
   "cell_type": "code",
   "execution_count": 6,
   "id": "c5059386",
   "metadata": {
    "execution": {
     "iopub.execute_input": "2025-01-09T09:35:11.702780Z",
     "iopub.status.busy": "2025-01-09T09:35:11.702365Z",
     "iopub.status.idle": "2025-01-09T09:35:11.727855Z",
     "shell.execute_reply": "2025-01-09T09:35:11.726521Z"
    },
    "papermill": {
     "duration": 0.038963,
     "end_time": "2025-01-09T09:35:11.729829",
     "exception": false,
     "start_time": "2025-01-09T09:35:11.690866",
     "status": "completed"
    },
    "tags": []
   },
   "outputs": [
    {
     "name": "stdout",
     "output_type": "stream",
     "text": [
      "<class 'pandas.core.frame.DataFrame'>\n",
      "RangeIndex: 2603 entries, 0 to 2602\n",
      "Data columns (total 14 columns):\n",
      " #   Column                  Non-Null Count  Dtype  \n",
      "---  ------                  --------------  -----  \n",
      " 0   world_rank              2603 non-null   object \n",
      " 1   university_name         2603 non-null   object \n",
      " 2   country                 2603 non-null   object \n",
      " 3   teaching                2603 non-null   float64\n",
      " 4   international           2603 non-null   object \n",
      " 5   research                2603 non-null   float64\n",
      " 6   citations               2603 non-null   float64\n",
      " 7   income                  2603 non-null   object \n",
      " 8   total_score             2603 non-null   object \n",
      " 9   num_students            2544 non-null   object \n",
      " 10  student_staff_ratio     2544 non-null   float64\n",
      " 11  international_students  2536 non-null   object \n",
      " 12  female_male_ratio       2370 non-null   object \n",
      " 13  year                    2603 non-null   int64  \n",
      "dtypes: float64(4), int64(1), object(9)\n",
      "memory usage: 284.8+ KB\n"
     ]
    }
   ],
   "source": [
    "data.info()   # Provides a summary of the dataset, including data types and non-null counts for each column"
   ]
  },
  {
   "cell_type": "code",
   "execution_count": 7,
   "id": "e6d7046c",
   "metadata": {
    "execution": {
     "iopub.execute_input": "2025-01-09T09:35:11.752647Z",
     "iopub.status.busy": "2025-01-09T09:35:11.752266Z",
     "iopub.status.idle": "2025-01-09T09:35:11.776482Z",
     "shell.execute_reply": "2025-01-09T09:35:11.775244Z"
    },
    "papermill": {
     "duration": 0.038024,
     "end_time": "2025-01-09T09:35:11.778615",
     "exception": false,
     "start_time": "2025-01-09T09:35:11.740591",
     "status": "completed"
    },
    "tags": []
   },
   "outputs": [
    {
     "data": {
      "text/html": [
       "<div>\n",
       "<style scoped>\n",
       "    .dataframe tbody tr th:only-of-type {\n",
       "        vertical-align: middle;\n",
       "    }\n",
       "\n",
       "    .dataframe tbody tr th {\n",
       "        vertical-align: top;\n",
       "    }\n",
       "\n",
       "    .dataframe thead th {\n",
       "        text-align: right;\n",
       "    }\n",
       "</style>\n",
       "<table border=\"1\" class=\"dataframe\">\n",
       "  <thead>\n",
       "    <tr style=\"text-align: right;\">\n",
       "      <th></th>\n",
       "      <th>teaching</th>\n",
       "      <th>research</th>\n",
       "      <th>citations</th>\n",
       "      <th>student_staff_ratio</th>\n",
       "      <th>year</th>\n",
       "    </tr>\n",
       "  </thead>\n",
       "  <tbody>\n",
       "    <tr>\n",
       "      <th>count</th>\n",
       "      <td>2603.000000</td>\n",
       "      <td>2603.000000</td>\n",
       "      <td>2603.000000</td>\n",
       "      <td>2544.000000</td>\n",
       "      <td>2603.000000</td>\n",
       "    </tr>\n",
       "    <tr>\n",
       "      <th>mean</th>\n",
       "      <td>37.801498</td>\n",
       "      <td>35.910257</td>\n",
       "      <td>60.921629</td>\n",
       "      <td>18.445283</td>\n",
       "      <td>2014.075682</td>\n",
       "    </tr>\n",
       "    <tr>\n",
       "      <th>std</th>\n",
       "      <td>17.604218</td>\n",
       "      <td>21.254805</td>\n",
       "      <td>23.073219</td>\n",
       "      <td>11.458698</td>\n",
       "      <td>1.685733</td>\n",
       "    </tr>\n",
       "    <tr>\n",
       "      <th>min</th>\n",
       "      <td>9.900000</td>\n",
       "      <td>2.900000</td>\n",
       "      <td>1.200000</td>\n",
       "      <td>0.600000</td>\n",
       "      <td>2011.000000</td>\n",
       "    </tr>\n",
       "    <tr>\n",
       "      <th>25%</th>\n",
       "      <td>24.700000</td>\n",
       "      <td>19.600000</td>\n",
       "      <td>45.500000</td>\n",
       "      <td>11.975000</td>\n",
       "      <td>2013.000000</td>\n",
       "    </tr>\n",
       "    <tr>\n",
       "      <th>50%</th>\n",
       "      <td>33.900000</td>\n",
       "      <td>30.500000</td>\n",
       "      <td>62.500000</td>\n",
       "      <td>16.100000</td>\n",
       "      <td>2014.000000</td>\n",
       "    </tr>\n",
       "    <tr>\n",
       "      <th>75%</th>\n",
       "      <td>46.400000</td>\n",
       "      <td>47.250000</td>\n",
       "      <td>79.050000</td>\n",
       "      <td>21.500000</td>\n",
       "      <td>2016.000000</td>\n",
       "    </tr>\n",
       "    <tr>\n",
       "      <th>max</th>\n",
       "      <td>99.700000</td>\n",
       "      <td>99.400000</td>\n",
       "      <td>100.000000</td>\n",
       "      <td>162.600000</td>\n",
       "      <td>2016.000000</td>\n",
       "    </tr>\n",
       "  </tbody>\n",
       "</table>\n",
       "</div>"
      ],
      "text/plain": [
       "          teaching     research    citations  student_staff_ratio         year\n",
       "count  2603.000000  2603.000000  2603.000000          2544.000000  2603.000000\n",
       "mean     37.801498    35.910257    60.921629            18.445283  2014.075682\n",
       "std      17.604218    21.254805    23.073219            11.458698     1.685733\n",
       "min       9.900000     2.900000     1.200000             0.600000  2011.000000\n",
       "25%      24.700000    19.600000    45.500000            11.975000  2013.000000\n",
       "50%      33.900000    30.500000    62.500000            16.100000  2014.000000\n",
       "75%      46.400000    47.250000    79.050000            21.500000  2016.000000\n",
       "max      99.700000    99.400000   100.000000           162.600000  2016.000000"
      ]
     },
     "execution_count": 7,
     "metadata": {},
     "output_type": "execute_result"
    }
   ],
   "source": [
    "data.describe()  # Displaying the summary statistics"
   ]
  },
  {
   "cell_type": "code",
   "execution_count": 8,
   "id": "ea7403d7",
   "metadata": {
    "execution": {
     "iopub.execute_input": "2025-01-09T09:35:11.802085Z",
     "iopub.status.busy": "2025-01-09T09:35:11.801574Z",
     "iopub.status.idle": "2025-01-09T09:35:11.808880Z",
     "shell.execute_reply": "2025-01-09T09:35:11.807840Z"
    },
    "papermill": {
     "duration": 0.020742,
     "end_time": "2025-01-09T09:35:11.810610",
     "exception": false,
     "start_time": "2025-01-09T09:35:11.789868",
     "status": "completed"
    },
    "tags": []
   },
   "outputs": [
    {
     "data": {
      "text/plain": [
       "world_rank                 object\n",
       "university_name            object\n",
       "country                    object\n",
       "teaching                  float64\n",
       "international              object\n",
       "research                  float64\n",
       "citations                 float64\n",
       "income                     object\n",
       "total_score                object\n",
       "num_students               object\n",
       "student_staff_ratio       float64\n",
       "international_students     object\n",
       "female_male_ratio          object\n",
       "year                        int64\n",
       "dtype: object"
      ]
     },
     "execution_count": 8,
     "metadata": {},
     "output_type": "execute_result"
    }
   ],
   "source": [
    "data.dtypes  # Checking data types of each column"
   ]
  },
  {
   "cell_type": "markdown",
   "id": "9a4e8c53",
   "metadata": {
    "papermill": {
     "duration": 0.010921,
     "end_time": "2025-01-09T09:35:11.832716",
     "exception": false,
     "start_time": "2025-01-09T09:35:11.821795",
     "status": "completed"
    },
    "tags": []
   },
   "source": [
    "## Checking for Missing Values\n",
    "Let's examine which variables have missing values."
   ]
  },
  {
   "cell_type": "code",
   "execution_count": 9,
   "id": "e810783c",
   "metadata": {
    "execution": {
     "iopub.execute_input": "2025-01-09T09:35:11.856901Z",
     "iopub.status.busy": "2025-01-09T09:35:11.856453Z",
     "iopub.status.idle": "2025-01-09T09:35:11.864008Z",
     "shell.execute_reply": "2025-01-09T09:35:11.863051Z"
    },
    "papermill": {
     "duration": 0.021737,
     "end_time": "2025-01-09T09:35:11.865619",
     "exception": false,
     "start_time": "2025-01-09T09:35:11.843882",
     "status": "completed"
    },
    "tags": []
   },
   "outputs": [],
   "source": [
    "data.replace(\"-\", np.nan, inplace=True) # before removing the missing values, we need to replace all the \"-\" values to nan"
   ]
  },
  {
   "cell_type": "code",
   "execution_count": 10,
   "id": "164f2df6",
   "metadata": {
    "execution": {
     "iopub.execute_input": "2025-01-09T09:35:11.889187Z",
     "iopub.status.busy": "2025-01-09T09:35:11.888780Z",
     "iopub.status.idle": "2025-01-09T09:35:11.897820Z",
     "shell.execute_reply": "2025-01-09T09:35:11.896780Z"
    },
    "papermill": {
     "duration": 0.022714,
     "end_time": "2025-01-09T09:35:11.899496",
     "exception": false,
     "start_time": "2025-01-09T09:35:11.876782",
     "status": "completed"
    },
    "tags": []
   },
   "outputs": [
    {
     "data": {
      "text/plain": [
       "world_rank                   0\n",
       "university_name              0\n",
       "country                      0\n",
       "teaching                     0\n",
       "international                9\n",
       "research                     0\n",
       "citations                    0\n",
       "income                     218\n",
       "total_score               1402\n",
       "num_students                59\n",
       "student_staff_ratio         59\n",
       "international_students      67\n",
       "female_male_ratio          236\n",
       "year                         0\n",
       "dtype: int64"
      ]
     },
     "execution_count": 10,
     "metadata": {},
     "output_type": "execute_result"
    }
   ],
   "source": [
    "data.isnull().sum()  # Checking for missing values in each column"
   ]
  },
  {
   "cell_type": "markdown",
   "id": "b74bb2e4",
   "metadata": {
    "papermill": {
     "duration": 0.010768,
     "end_time": "2025-01-09T09:35:11.921593",
     "exception": false,
     "start_time": "2025-01-09T09:35:11.910825",
     "status": "completed"
    },
    "tags": []
   },
   "source": [
    "## Solution for Missing Data\n",
    "- Deleting Missing Data:\n",
    "If the proportion of missing data is very low (for example, only a few observations are missing), deleting the missing values is generally a reliable option. This is especially suitable for cases where the missing data doesn't significantly impact the overall analysis.\n",
    "In this case, if the missing data is only a small portion of the dataset, deleting it will not significantly affect the results of the analysis.\n",
    "\n",
    "- Filling Missing Data with Mean/Median:\n",
    "If the number of missing values is higher, and deleting them might jeopardize the validity of the analysis, filling the missing data appropriately can be a good solution.\n",
    "Filling with the mean is typically suitable when the data distribution is symmetrical.\n",
    "Filling with the median is a better option when the data distribution is skewed, as the median is less affected by extreme outliers.\n",
    "\n",
    "- Filling with Zero:\n",
    "This method can be used, especially when zero has a meaningful context in the data (e.g., \"number of students\"). However, it should be used cautiously, as it may not align with the natural structure of the data and could lead to misleading analysis results.\n",
    "\n",
    "\n",
    "For this notebook, we are going to drop all missing values."
   ]
  },
  {
   "cell_type": "code",
   "execution_count": 11,
   "id": "bdc1042a",
   "metadata": {
    "execution": {
     "iopub.execute_input": "2025-01-09T09:35:11.945963Z",
     "iopub.status.busy": "2025-01-09T09:35:11.945495Z",
     "iopub.status.idle": "2025-01-09T09:35:11.970741Z",
     "shell.execute_reply": "2025-01-09T09:35:11.969701Z"
    },
    "papermill": {
     "duration": 0.038944,
     "end_time": "2025-01-09T09:35:11.972475",
     "exception": false,
     "start_time": "2025-01-09T09:35:11.933531",
     "status": "completed"
    },
    "tags": []
   },
   "outputs": [
    {
     "data": {
      "text/html": [
       "<div>\n",
       "<style scoped>\n",
       "    .dataframe tbody tr th:only-of-type {\n",
       "        vertical-align: middle;\n",
       "    }\n",
       "\n",
       "    .dataframe tbody tr th {\n",
       "        vertical-align: top;\n",
       "    }\n",
       "\n",
       "    .dataframe thead th {\n",
       "        text-align: right;\n",
       "    }\n",
       "</style>\n",
       "<table border=\"1\" class=\"dataframe\">\n",
       "  <thead>\n",
       "    <tr style=\"text-align: right;\">\n",
       "      <th></th>\n",
       "      <th>world_rank</th>\n",
       "      <th>university_name</th>\n",
       "      <th>country</th>\n",
       "      <th>teaching</th>\n",
       "      <th>international</th>\n",
       "      <th>research</th>\n",
       "      <th>citations</th>\n",
       "      <th>income</th>\n",
       "      <th>total_score</th>\n",
       "      <th>num_students</th>\n",
       "      <th>student_staff_ratio</th>\n",
       "      <th>international_students</th>\n",
       "      <th>female_male_ratio</th>\n",
       "      <th>year</th>\n",
       "    </tr>\n",
       "  </thead>\n",
       "  <tbody>\n",
       "    <tr>\n",
       "      <th>1</th>\n",
       "      <td>2</td>\n",
       "      <td>California Institute of Technology</td>\n",
       "      <td>United States of America</td>\n",
       "      <td>97.7</td>\n",
       "      <td>54.6</td>\n",
       "      <td>98.0</td>\n",
       "      <td>99.9</td>\n",
       "      <td>83.7</td>\n",
       "      <td>96.0</td>\n",
       "      <td>2,243</td>\n",
       "      <td>6.9</td>\n",
       "      <td>27%</td>\n",
       "      <td>33 : 67</td>\n",
       "      <td>2011</td>\n",
       "    </tr>\n",
       "    <tr>\n",
       "      <th>2</th>\n",
       "      <td>3</td>\n",
       "      <td>Massachusetts Institute of Technology</td>\n",
       "      <td>United States of America</td>\n",
       "      <td>97.8</td>\n",
       "      <td>82.3</td>\n",
       "      <td>91.4</td>\n",
       "      <td>99.9</td>\n",
       "      <td>87.5</td>\n",
       "      <td>95.6</td>\n",
       "      <td>11,074</td>\n",
       "      <td>9.0</td>\n",
       "      <td>33%</td>\n",
       "      <td>37 : 63</td>\n",
       "      <td>2011</td>\n",
       "    </tr>\n",
       "    <tr>\n",
       "      <th>3</th>\n",
       "      <td>4</td>\n",
       "      <td>Stanford University</td>\n",
       "      <td>United States of America</td>\n",
       "      <td>98.3</td>\n",
       "      <td>29.5</td>\n",
       "      <td>98.1</td>\n",
       "      <td>99.2</td>\n",
       "      <td>64.3</td>\n",
       "      <td>94.3</td>\n",
       "      <td>15,596</td>\n",
       "      <td>7.8</td>\n",
       "      <td>22%</td>\n",
       "      <td>42 : 58</td>\n",
       "      <td>2011</td>\n",
       "    </tr>\n",
       "    <tr>\n",
       "      <th>5</th>\n",
       "      <td>6</td>\n",
       "      <td>University of Cambridge</td>\n",
       "      <td>United Kingdom</td>\n",
       "      <td>90.5</td>\n",
       "      <td>77.7</td>\n",
       "      <td>94.1</td>\n",
       "      <td>94.0</td>\n",
       "      <td>57.0</td>\n",
       "      <td>91.2</td>\n",
       "      <td>18,812</td>\n",
       "      <td>11.8</td>\n",
       "      <td>34%</td>\n",
       "      <td>46 : 54</td>\n",
       "      <td>2011</td>\n",
       "    </tr>\n",
       "    <tr>\n",
       "      <th>6</th>\n",
       "      <td>6</td>\n",
       "      <td>University of Oxford</td>\n",
       "      <td>United Kingdom</td>\n",
       "      <td>88.2</td>\n",
       "      <td>77.2</td>\n",
       "      <td>93.9</td>\n",
       "      <td>95.1</td>\n",
       "      <td>73.5</td>\n",
       "      <td>91.2</td>\n",
       "      <td>19,919</td>\n",
       "      <td>11.6</td>\n",
       "      <td>34%</td>\n",
       "      <td>46 : 54</td>\n",
       "      <td>2011</td>\n",
       "    </tr>\n",
       "    <tr>\n",
       "      <th>...</th>\n",
       "      <td>...</td>\n",
       "      <td>...</td>\n",
       "      <td>...</td>\n",
       "      <td>...</td>\n",
       "      <td>...</td>\n",
       "      <td>...</td>\n",
       "      <td>...</td>\n",
       "      <td>...</td>\n",
       "      <td>...</td>\n",
       "      <td>...</td>\n",
       "      <td>...</td>\n",
       "      <td>...</td>\n",
       "      <td>...</td>\n",
       "      <td>...</td>\n",
       "    </tr>\n",
       "    <tr>\n",
       "      <th>1998</th>\n",
       "      <td>=196</td>\n",
       "      <td>Newcastle University</td>\n",
       "      <td>United Kingdom</td>\n",
       "      <td>30.9</td>\n",
       "      <td>84.3</td>\n",
       "      <td>27.5</td>\n",
       "      <td>81.5</td>\n",
       "      <td>34.7</td>\n",
       "      <td>49.2</td>\n",
       "      <td>20,174</td>\n",
       "      <td>15.2</td>\n",
       "      <td>29%</td>\n",
       "      <td>50 : 50</td>\n",
       "      <td>2016</td>\n",
       "    </tr>\n",
       "    <tr>\n",
       "      <th>1999</th>\n",
       "      <td>=196</td>\n",
       "      <td>St George’s, University of London</td>\n",
       "      <td>United Kingdom</td>\n",
       "      <td>25.6</td>\n",
       "      <td>69.5</td>\n",
       "      <td>18.1</td>\n",
       "      <td>100.0</td>\n",
       "      <td>37.7</td>\n",
       "      <td>49.2</td>\n",
       "      <td>2,958</td>\n",
       "      <td>13.4</td>\n",
       "      <td>17%</td>\n",
       "      <td>61 : 39</td>\n",
       "      <td>2016</td>\n",
       "    </tr>\n",
       "    <tr>\n",
       "      <th>2000</th>\n",
       "      <td>198</td>\n",
       "      <td>University of Trento</td>\n",
       "      <td>Italy</td>\n",
       "      <td>30.8</td>\n",
       "      <td>55.9</td>\n",
       "      <td>27.4</td>\n",
       "      <td>87.7</td>\n",
       "      <td>47.1</td>\n",
       "      <td>49.1</td>\n",
       "      <td>16,841</td>\n",
       "      <td>43.2</td>\n",
       "      <td>8%</td>\n",
       "      <td>51 : 49</td>\n",
       "      <td>2016</td>\n",
       "    </tr>\n",
       "    <tr>\n",
       "      <th>2001</th>\n",
       "      <td>199</td>\n",
       "      <td>Paris Diderot University – Paris 7</td>\n",
       "      <td>France</td>\n",
       "      <td>30.5</td>\n",
       "      <td>64.9</td>\n",
       "      <td>22.9</td>\n",
       "      <td>91.0</td>\n",
       "      <td>29.0</td>\n",
       "      <td>48.9</td>\n",
       "      <td>27,756</td>\n",
       "      <td>14.8</td>\n",
       "      <td>17%</td>\n",
       "      <td>63 : 37</td>\n",
       "      <td>2016</td>\n",
       "    </tr>\n",
       "    <tr>\n",
       "      <th>2002</th>\n",
       "      <td>200</td>\n",
       "      <td>Queen’s University Belfast</td>\n",
       "      <td>United Kingdom</td>\n",
       "      <td>34.1</td>\n",
       "      <td>93.4</td>\n",
       "      <td>33.3</td>\n",
       "      <td>68.9</td>\n",
       "      <td>35.7</td>\n",
       "      <td>48.8</td>\n",
       "      <td>17,940</td>\n",
       "      <td>17.9</td>\n",
       "      <td>30%</td>\n",
       "      <td>54 : 46</td>\n",
       "      <td>2016</td>\n",
       "    </tr>\n",
       "  </tbody>\n",
       "</table>\n",
       "<p>954 rows × 14 columns</p>\n",
       "</div>"
      ],
      "text/plain": [
       "     world_rank                        university_name  \\\n",
       "1             2     California Institute of Technology   \n",
       "2             3  Massachusetts Institute of Technology   \n",
       "3             4                    Stanford University   \n",
       "5             6                University of Cambridge   \n",
       "6             6                   University of Oxford   \n",
       "...         ...                                    ...   \n",
       "1998       =196                   Newcastle University   \n",
       "1999       =196      St George’s, University of London   \n",
       "2000        198                   University of Trento   \n",
       "2001        199     Paris Diderot University – Paris 7   \n",
       "2002        200             Queen’s University Belfast   \n",
       "\n",
       "                       country  teaching international  research  citations  \\\n",
       "1     United States of America      97.7          54.6      98.0       99.9   \n",
       "2     United States of America      97.8          82.3      91.4       99.9   \n",
       "3     United States of America      98.3          29.5      98.1       99.2   \n",
       "5               United Kingdom      90.5          77.7      94.1       94.0   \n",
       "6               United Kingdom      88.2          77.2      93.9       95.1   \n",
       "...                        ...       ...           ...       ...        ...   \n",
       "1998            United Kingdom      30.9          84.3      27.5       81.5   \n",
       "1999            United Kingdom      25.6          69.5      18.1      100.0   \n",
       "2000                     Italy      30.8          55.9      27.4       87.7   \n",
       "2001                    France      30.5          64.9      22.9       91.0   \n",
       "2002            United Kingdom      34.1          93.4      33.3       68.9   \n",
       "\n",
       "     income total_score num_students  student_staff_ratio  \\\n",
       "1      83.7        96.0        2,243                  6.9   \n",
       "2      87.5        95.6       11,074                  9.0   \n",
       "3      64.3        94.3       15,596                  7.8   \n",
       "5      57.0        91.2       18,812                 11.8   \n",
       "6      73.5        91.2       19,919                 11.6   \n",
       "...     ...         ...          ...                  ...   \n",
       "1998   34.7        49.2       20,174                 15.2   \n",
       "1999   37.7        49.2        2,958                 13.4   \n",
       "2000   47.1        49.1       16,841                 43.2   \n",
       "2001   29.0        48.9       27,756                 14.8   \n",
       "2002   35.7        48.8       17,940                 17.9   \n",
       "\n",
       "     international_students female_male_ratio  year  \n",
       "1                       27%           33 : 67  2011  \n",
       "2                       33%           37 : 63  2011  \n",
       "3                       22%           42 : 58  2011  \n",
       "5                       34%           46 : 54  2011  \n",
       "6                       34%           46 : 54  2011  \n",
       "...                     ...               ...   ...  \n",
       "1998                    29%           50 : 50  2016  \n",
       "1999                    17%           61 : 39  2016  \n",
       "2000                     8%           51 : 49  2016  \n",
       "2001                    17%           63 : 37  2016  \n",
       "2002                    30%           54 : 46  2016  \n",
       "\n",
       "[954 rows x 14 columns]"
      ]
     },
     "execution_count": 11,
     "metadata": {},
     "output_type": "execute_result"
    }
   ],
   "source": [
    "data_cleaned = data.dropna()  # Drop rows with missing data (if necessary)\n",
    "data_cleaned # from now on we will work on this dataset"
   ]
  },
  {
   "cell_type": "code",
   "execution_count": 12,
   "id": "6a912a2c",
   "metadata": {
    "execution": {
     "iopub.execute_input": "2025-01-09T09:35:11.996828Z",
     "iopub.status.busy": "2025-01-09T09:35:11.996445Z",
     "iopub.status.idle": "2025-01-09T09:35:12.004184Z",
     "shell.execute_reply": "2025-01-09T09:35:12.003268Z"
    },
    "papermill": {
     "duration": 0.021563,
     "end_time": "2025-01-09T09:35:12.005715",
     "exception": false,
     "start_time": "2025-01-09T09:35:11.984152",
     "status": "completed"
    },
    "tags": []
   },
   "outputs": [
    {
     "data": {
      "text/plain": [
       "world_rank                0\n",
       "university_name           0\n",
       "country                   0\n",
       "teaching                  0\n",
       "international             0\n",
       "research                  0\n",
       "citations                 0\n",
       "income                    0\n",
       "total_score               0\n",
       "num_students              0\n",
       "student_staff_ratio       0\n",
       "international_students    0\n",
       "female_male_ratio         0\n",
       "year                      0\n",
       "dtype: int64"
      ]
     },
     "execution_count": 12,
     "metadata": {},
     "output_type": "execute_result"
    }
   ],
   "source": [
    "data_cleaned.isnull().sum() # Checking whether NA's are dropped or not"
   ]
  },
  {
   "cell_type": "markdown",
   "id": "435bcb78",
   "metadata": {
    "papermill": {
     "duration": 0.011471,
     "end_time": "2025-01-09T09:35:12.029113",
     "exception": false,
     "start_time": "2025-01-09T09:35:12.017642",
     "status": "completed"
    },
    "tags": []
   },
   "source": [
    "Then, since all the NA is removed, we can start visualizing the data."
   ]
  },
  {
   "cell_type": "markdown",
   "id": "74d80591",
   "metadata": {
    "papermill": {
     "duration": 0.011368,
     "end_time": "2025-01-09T09:35:12.052400",
     "exception": false,
     "start_time": "2025-01-09T09:35:12.041032",
     "status": "completed"
    },
    "tags": []
   },
   "source": [
    "## Visualizations"
   ]
  },
  {
   "cell_type": "markdown",
   "id": "66e03162",
   "metadata": {
    "papermill": {
     "duration": 0.011349,
     "end_time": "2025-01-09T09:35:12.075479",
     "exception": false,
     "start_time": "2025-01-09T09:35:12.064130",
     "status": "completed"
    },
    "tags": []
   },
   "source": [
    "### Line Plot: University Ranking Over Time"
   ]
  },
  {
   "cell_type": "code",
   "execution_count": 16,
   "id": "a539b12b",
   "metadata": {
    "execution": {
     "iopub.execute_input": "2025-01-09T09:35:12.100141Z",
     "iopub.status.busy": "2025-01-09T09:35:12.099742Z",
     "iopub.status.idle": "2025-01-09T09:35:13.004537Z",
     "shell.execute_reply": "2025-01-09T09:35:13.003213Z"
    },
    "papermill": {
     "duration": 0.919117,
     "end_time": "2025-01-09T09:35:13.006289",
     "exception": false,
     "start_time": "2025-01-09T09:35:12.087172",
     "status": "completed"
    },
    "tags": []
   },
   "outputs": [
    {
     "data": {
      "text/plain": [
       "'plotly_line_ranking.html'"
      ]
     },
     "execution_count": 16,
     "metadata": {},
     "output_type": "execute_result"
    }
   ],
   "source": [
    "# Filter data for a specific university, e.g., Harvard University\n",
    "harvard_data = data[data['university_name'] == 'Harvard University']\n",
    "\n",
    "line = go.Scatter(\n",
    "    x = harvard_data.year, \n",
    "    y = harvard_data.world_rank, \n",
    "    mode = \"lines+markers\", \n",
    "    name = \"World Rank\",\n",
    "    marker = dict(color = \"rgba(80,120,100,1)\"),\n",
    "    text = harvard_data.university_name)\n",
    "\n",
    "data_ = [line]\n",
    "layout = dict(title = \"Harvard University Ranking Over Time\",\n",
    "              xaxis = dict(title = \"Year\"),\n",
    "              yaxis = dict(title = \"World Ranking\"))\n",
    "fig = dict(data = data_, layout = layout)\n",
    "plot(fig, filename = \"plotly_line_ranking.html\")"
   ]
  },
  {
   "cell_type": "markdown",
   "id": "2cc81106",
   "metadata": {
    "papermill": {
     "duration": 0.015663,
     "end_time": "2025-01-09T09:35:13.038414",
     "exception": false,
     "start_time": "2025-01-09T09:35:13.022751",
     "status": "completed"
    },
    "tags": []
   },
   "source": [
    "### Scatter Plot: Research vs Citations"
   ]
  },
  {
   "cell_type": "code",
   "execution_count": 17,
   "id": "191ad081",
   "metadata": {
    "execution": {
     "iopub.execute_input": "2025-01-09T09:35:13.073158Z",
     "iopub.status.busy": "2025-01-09T09:35:13.072774Z",
     "iopub.status.idle": "2025-01-09T09:35:13.116411Z",
     "shell.execute_reply": "2025-01-09T09:35:13.115304Z"
    },
    "papermill": {
     "duration": 0.065035,
     "end_time": "2025-01-09T09:35:13.120689",
     "exception": false,
     "start_time": "2025-01-09T09:35:13.055654",
     "status": "completed"
    },
    "tags": []
   },
   "outputs": [
    {
     "data": {
      "text/plain": [
       "'plotly_scatter_comparing.html'"
      ]
     },
     "execution_count": 17,
     "metadata": {},
     "output_type": "execute_result"
    }
   ],
   "source": [
    "# Define the scatter plot for Research vs Citations\n",
    "scatter = go.Scatter(\n",
    "    x = data_cleaned.research,                      # X-axis: Research scores\n",
    "    y = data_cleaned.citations,                     # Y-axis: Citation scores\n",
    "    mode = \"markers\",                     # Display only markers (no lines)\n",
    "    name = \"Research vs Citations\",       # Legend name for the plot\n",
    "    marker = dict(color = \"rgba(120, 99, 132, 0.7)\"),  # Marker color (light purple)\n",
    "    text = data_cleaned.university_name             # Hover text showing university names\n",
    ")\n",
    "\n",
    "# Define the data list with the Scatter object\n",
    "data_ = [scatter]\n",
    "\n",
    "# Set up the layout for the plot\n",
    "layout = dict(\n",
    "    title = \"Research vs Citations\",       # Title of the plot\n",
    "    xaxis = dict(title = \"Research Score\"), # X-axis label\n",
    "    yaxis = dict(title = \"Citation Score\")  # Y-axis label\n",
    ")\n",
    "\n",
    "# Create the figure dictionary with data and layout\n",
    "fig = dict(data = data_, layout = layout)\n",
    "plot(fig, filename = \"plotly_scatter_comparing.html\")"
   ]
  },
  {
   "cell_type": "markdown",
   "id": "bc17cb01",
   "metadata": {
    "papermill": {
     "duration": 0.025578,
     "end_time": "2025-01-09T09:35:13.173257",
     "exception": false,
     "start_time": "2025-01-09T09:35:13.147679",
     "status": "completed"
    },
    "tags": []
   },
   "source": [
    "### Bar Plot: Average Teaching Score by Country"
   ]
  },
  {
   "cell_type": "code",
   "execution_count": 18,
   "id": "1f4788e8",
   "metadata": {
    "execution": {
     "iopub.execute_input": "2025-01-09T09:35:13.228099Z",
     "iopub.status.busy": "2025-01-09T09:35:13.227731Z",
     "iopub.status.idle": "2025-01-09T09:35:13.244095Z",
     "shell.execute_reply": "2025-01-09T09:35:13.242956Z"
    },
    "papermill": {
     "duration": 0.04526,
     "end_time": "2025-01-09T09:35:13.245736",
     "exception": false,
     "start_time": "2025-01-09T09:35:13.200476",
     "status": "completed"
    },
    "tags": []
   },
   "outputs": [
    {
     "data": {
      "text/html": [
       "<div>\n",
       "<style scoped>\n",
       "    .dataframe tbody tr th:only-of-type {\n",
       "        vertical-align: middle;\n",
       "    }\n",
       "\n",
       "    .dataframe tbody tr th {\n",
       "        vertical-align: top;\n",
       "    }\n",
       "\n",
       "    .dataframe thead th {\n",
       "        text-align: right;\n",
       "    }\n",
       "</style>\n",
       "<table border=\"1\" class=\"dataframe\">\n",
       "  <thead>\n",
       "    <tr style=\"text-align: right;\">\n",
       "      <th></th>\n",
       "      <th>country</th>\n",
       "      <th>teaching</th>\n",
       "    </tr>\n",
       "  </thead>\n",
       "  <tbody>\n",
       "    <tr>\n",
       "      <th>0</th>\n",
       "      <td>Australia</td>\n",
       "      <td>48.052273</td>\n",
       "    </tr>\n",
       "    <tr>\n",
       "      <th>1</th>\n",
       "      <td>Austria</td>\n",
       "      <td>41.585714</td>\n",
       "    </tr>\n",
       "    <tr>\n",
       "      <th>2</th>\n",
       "      <td>Belgium</td>\n",
       "      <td>43.157143</td>\n",
       "    </tr>\n",
       "    <tr>\n",
       "      <th>3</th>\n",
       "      <td>Brazil</td>\n",
       "      <td>62.350000</td>\n",
       "    </tr>\n",
       "    <tr>\n",
       "      <th>4</th>\n",
       "      <td>Canada</td>\n",
       "      <td>47.943243</td>\n",
       "    </tr>\n",
       "    <tr>\n",
       "      <th>5</th>\n",
       "      <td>China</td>\n",
       "      <td>62.630000</td>\n",
       "    </tr>\n",
       "    <tr>\n",
       "      <th>6</th>\n",
       "      <td>Denmark</td>\n",
       "      <td>37.605556</td>\n",
       "    </tr>\n",
       "    <tr>\n",
       "      <th>7</th>\n",
       "      <td>Egypt</td>\n",
       "      <td>29.500000</td>\n",
       "    </tr>\n",
       "    <tr>\n",
       "      <th>8</th>\n",
       "      <td>Finland</td>\n",
       "      <td>42.083333</td>\n",
       "    </tr>\n",
       "    <tr>\n",
       "      <th>9</th>\n",
       "      <td>France</td>\n",
       "      <td>48.380769</td>\n",
       "    </tr>\n",
       "    <tr>\n",
       "      <th>10</th>\n",
       "      <td>Germany</td>\n",
       "      <td>46.938462</td>\n",
       "    </tr>\n",
       "    <tr>\n",
       "      <th>11</th>\n",
       "      <td>Hong Kong</td>\n",
       "      <td>50.587500</td>\n",
       "    </tr>\n",
       "    <tr>\n",
       "      <th>12</th>\n",
       "      <td>Israel</td>\n",
       "      <td>45.980000</td>\n",
       "    </tr>\n",
       "    <tr>\n",
       "      <th>13</th>\n",
       "      <td>Italy</td>\n",
       "      <td>43.925000</td>\n",
       "    </tr>\n",
       "    <tr>\n",
       "      <th>14</th>\n",
       "      <td>Japan</td>\n",
       "      <td>56.453333</td>\n",
       "    </tr>\n",
       "    <tr>\n",
       "      <th>15</th>\n",
       "      <td>Luxembourg</td>\n",
       "      <td>25.000000</td>\n",
       "    </tr>\n",
       "    <tr>\n",
       "      <th>16</th>\n",
       "      <td>Netherlands</td>\n",
       "      <td>41.698485</td>\n",
       "    </tr>\n",
       "    <tr>\n",
       "      <th>17</th>\n",
       "      <td>New Zealand</td>\n",
       "      <td>30.633333</td>\n",
       "    </tr>\n",
       "    <tr>\n",
       "      <th>18</th>\n",
       "      <td>Norway</td>\n",
       "      <td>33.800000</td>\n",
       "    </tr>\n",
       "    <tr>\n",
       "      <th>19</th>\n",
       "      <td>Republic of Ireland</td>\n",
       "      <td>39.050000</td>\n",
       "    </tr>\n",
       "    <tr>\n",
       "      <th>20</th>\n",
       "      <td>Russian Federation</td>\n",
       "      <td>65.650000</td>\n",
       "    </tr>\n",
       "    <tr>\n",
       "      <th>21</th>\n",
       "      <td>Singapore</td>\n",
       "      <td>56.500000</td>\n",
       "    </tr>\n",
       "    <tr>\n",
       "      <th>22</th>\n",
       "      <td>South Africa</td>\n",
       "      <td>31.400000</td>\n",
       "    </tr>\n",
       "    <tr>\n",
       "      <th>23</th>\n",
       "      <td>South Korea</td>\n",
       "      <td>58.792857</td>\n",
       "    </tr>\n",
       "    <tr>\n",
       "      <th>24</th>\n",
       "      <td>Spain</td>\n",
       "      <td>32.037500</td>\n",
       "    </tr>\n",
       "    <tr>\n",
       "      <th>25</th>\n",
       "      <td>Sweden</td>\n",
       "      <td>45.313636</td>\n",
       "    </tr>\n",
       "    <tr>\n",
       "      <th>26</th>\n",
       "      <td>Switzerland</td>\n",
       "      <td>47.956250</td>\n",
       "    </tr>\n",
       "    <tr>\n",
       "      <th>27</th>\n",
       "      <td>Taiwan</td>\n",
       "      <td>50.666667</td>\n",
       "    </tr>\n",
       "    <tr>\n",
       "      <th>28</th>\n",
       "      <td>Turkey</td>\n",
       "      <td>31.700000</td>\n",
       "    </tr>\n",
       "    <tr>\n",
       "      <th>29</th>\n",
       "      <td>United Kingdom</td>\n",
       "      <td>45.774138</td>\n",
       "    </tr>\n",
       "    <tr>\n",
       "      <th>30</th>\n",
       "      <td>United States of America</td>\n",
       "      <td>56.132797</td>\n",
       "    </tr>\n",
       "  </tbody>\n",
       "</table>\n",
       "</div>"
      ],
      "text/plain": [
       "                     country   teaching\n",
       "0                  Australia  48.052273\n",
       "1                    Austria  41.585714\n",
       "2                    Belgium  43.157143\n",
       "3                     Brazil  62.350000\n",
       "4                     Canada  47.943243\n",
       "5                      China  62.630000\n",
       "6                    Denmark  37.605556\n",
       "7                      Egypt  29.500000\n",
       "8                    Finland  42.083333\n",
       "9                     France  48.380769\n",
       "10                   Germany  46.938462\n",
       "11                 Hong Kong  50.587500\n",
       "12                    Israel  45.980000\n",
       "13                     Italy  43.925000\n",
       "14                     Japan  56.453333\n",
       "15                Luxembourg  25.000000\n",
       "16               Netherlands  41.698485\n",
       "17               New Zealand  30.633333\n",
       "18                    Norway  33.800000\n",
       "19       Republic of Ireland  39.050000\n",
       "20        Russian Federation  65.650000\n",
       "21                 Singapore  56.500000\n",
       "22              South Africa  31.400000\n",
       "23               South Korea  58.792857\n",
       "24                     Spain  32.037500\n",
       "25                    Sweden  45.313636\n",
       "26               Switzerland  47.956250\n",
       "27                    Taiwan  50.666667\n",
       "28                    Turkey  31.700000\n",
       "29            United Kingdom  45.774138\n",
       "30  United States of America  56.132797"
      ]
     },
     "execution_count": 18,
     "metadata": {},
     "output_type": "execute_result"
    }
   ],
   "source": [
    "average_teaching_by_country = data_cleaned.groupby(\"country\")[\"teaching\"].mean().reset_index()\n",
    "average_teaching_by_country"
   ]
  },
  {
   "cell_type": "code",
   "execution_count": 19,
   "id": "4913aa62",
   "metadata": {
    "execution": {
     "iopub.execute_input": "2025-01-09T09:35:13.299987Z",
     "iopub.status.busy": "2025-01-09T09:35:13.299591Z",
     "iopub.status.idle": "2025-01-09T09:35:13.337361Z",
     "shell.execute_reply": "2025-01-09T09:35:13.336316Z"
    },
    "papermill": {
     "duration": 0.067368,
     "end_time": "2025-01-09T09:35:13.339569",
     "exception": false,
     "start_time": "2025-01-09T09:35:13.272201",
     "status": "completed"
    },
    "tags": []
   },
   "outputs": [
    {
     "data": {
      "text/plain": [
       "'plotly_bar.html'"
      ]
     },
     "execution_count": 19,
     "metadata": {},
     "output_type": "execute_result"
    }
   ],
   "source": [
    "# Create the bar plot for average teaching score by country\n",
    "bar = go.Bar(\n",
    "    x = average_teaching_by_country.country,\n",
    "    y =average_teaching_by_country.teaching,\n",
    "    name = \"Average Teaching Score\",\n",
    "    marker =dict(color = \"rgba(255,127,39,0.5)\",\n",
    "                line = dict(color = \"rgba(0, 0, 0, 1)\",width = 1)),\n",
    "    text = average_teaching_by_country.country\n",
    ")\n",
    "\n",
    "# Define the data list with the Bar object\n",
    "data_ = [bar]\n",
    "\n",
    "# Set up the layout for the plot\n",
    "layout = dict(\n",
    "    title = \"Average Teaching Score by Country\",  # Title of the plot\n",
    "    xaxis = dict(title = \"Country\"),              # X-axis label\n",
    "    yaxis = dict(title = \"Average Teaching Score\"),  # Y-axis label\n",
    "    showlegend = False  # Hide the legend as it's a single bar plot\n",
    ")\n",
    "\n",
    "# Create the figure dictionary with data and layout\n",
    "fig = dict(data = data_, layout = layout)\n",
    "plot(fig, filename = \"plotly_bar.html\")"
   ]
  },
  {
   "cell_type": "markdown",
   "id": "48fa7a5b",
   "metadata": {
    "papermill": {
     "duration": 0.030297,
     "end_time": "2025-01-09T09:35:13.400815",
     "exception": false,
     "start_time": "2025-01-09T09:35:13.370518",
     "status": "completed"
    },
    "tags": []
   },
   "source": [
    "### Box Plot: Income Distribution Across Countries"
   ]
  },
  {
   "cell_type": "code",
   "execution_count": 20,
   "id": "28c3b450",
   "metadata": {
    "execution": {
     "iopub.execute_input": "2025-01-09T09:35:13.464116Z",
     "iopub.status.busy": "2025-01-09T09:35:13.463746Z",
     "iopub.status.idle": "2025-01-09T09:35:13.518830Z",
     "shell.execute_reply": "2025-01-09T09:35:13.517686Z"
    },
    "papermill": {
     "duration": 0.090422,
     "end_time": "2025-01-09T09:35:13.522117",
     "exception": false,
     "start_time": "2025-01-09T09:35:13.431695",
     "status": "completed"
    },
    "tags": []
   },
   "outputs": [
    {
     "data": {
      "text/plain": [
       "'plotly_boxplot.html'"
      ]
     },
     "execution_count": 20,
     "metadata": {},
     "output_type": "execute_result"
    }
   ],
   "source": [
    "# Create a box plot for the 'income' column grouped by country\n",
    "box1 = go.Box(\n",
    "    y = data_cleaned.income.astype(float),  # Convert income to float for proper plotting\n",
    "    x = data_cleaned.country,               # Group by country for categorical X-axis\n",
    "    name = \"Income Distribution by Country\",  # Set the name for the legend\n",
    "    boxmean = True,                     # Display the mean as a line in the box plot\n",
    "    marker = dict(\n",
    "        color = \"rgba(100,149,237,0.7)\"  # Set a blue tone with transparency for the box color\n",
    "    ),\n",
    ")\n",
    "\n",
    "# Combine the box plot into a data list\n",
    "data_ = [box1]\n",
    "\n",
    "# Set up the layout\n",
    "layout = dict(\n",
    "    title = \"Income Distribution Across Countries\",  # Title of the plot\n",
    "    xaxis = dict(title = \"Country\"),                     # X-axis label\n",
    "    yaxis = dict(title = \"Income\"),                      # Y-axis label\n",
    "    boxmode = 'group',                                   # Group mode for box plots\n",
    ")\n",
    "\n",
    "# Create the figure dictionary with data and layout\n",
    "fig = dict(data = data_, layout = layout)\n",
    "plot(fig, filename = \"plotly_boxplot.html\")"
   ]
  },
  {
   "cell_type": "markdown",
   "id": "d697490a",
   "metadata": {
    "papermill": {
     "duration": 0.037699,
     "end_time": "2025-01-09T09:35:13.599535",
     "exception": false,
     "start_time": "2025-01-09T09:35:13.561836",
     "status": "completed"
    },
    "tags": []
   },
   "source": [
    "This may seem too crowded when reviewing. If you wish, you can choose the first 5-10 countries or consider a specific year."
   ]
  },
  {
   "cell_type": "markdown",
   "id": "c410fdc5",
   "metadata": {
    "papermill": {
     "duration": 0.037765,
     "end_time": "2025-01-09T09:35:13.678381",
     "exception": false,
     "start_time": "2025-01-09T09:35:13.640616",
     "status": "completed"
    },
    "tags": []
   },
   "source": [
    "### Pie Chart: Distribution of Gender Ratio\n",
    "We want to examine the general gender distribution of the data we have, but when we first checked the data, the female and male rates are given combined. First we need to separate them and then the necessary operations are shown as follows."
   ]
  },
  {
   "cell_type": "code",
   "execution_count": 21,
   "id": "e82c8675",
   "metadata": {
    "execution": {
     "iopub.execute_input": "2025-01-09T09:35:13.756176Z",
     "iopub.status.busy": "2025-01-09T09:35:13.755818Z",
     "iopub.status.idle": "2025-01-09T09:35:13.773278Z",
     "shell.execute_reply": "2025-01-09T09:35:13.772008Z"
    },
    "papermill": {
     "duration": 0.058298,
     "end_time": "2025-01-09T09:35:13.774943",
     "exception": false,
     "start_time": "2025-01-09T09:35:13.716645",
     "status": "completed"
    },
    "tags": []
   },
   "outputs": [
    {
     "name": "stdout",
     "output_type": "stream",
     "text": [
      "  female male\n",
      "1    33    67\n",
      "2    37    63\n",
      "3    42    58\n",
      "5    46    54\n",
      "6    46    54\n",
      "female    int64\n",
      "male      int64\n",
      "dtype: object\n",
      "Total Female: 47179\n",
      "Total Male: 48221\n"
     ]
    }
   ],
   "source": [
    "# Ensure data is copied properly\n",
    "data_cleaned = data_cleaned.copy()\n",
    "\n",
    "# Clean and split the female_male_ratio column into separate female and male counts\n",
    "data_cleaned[['female', 'male']] = data_cleaned['female_male_ratio'].str.split(\":\", expand=True)\n",
    "\n",
    "# Check for successful splitting\n",
    "print(data_cleaned[['female', 'male']].head())\n",
    "\n",
    "# Convert female and male counts to numeric\n",
    "data_cleaned['female'] = pd.to_numeric(data_cleaned['female'], errors='coerce')\n",
    "data_cleaned['male'] = pd.to_numeric(data_cleaned['male'], errors='coerce')\n",
    "\n",
    "# Check for conversion success\n",
    "print(data_cleaned[['female', 'male']].dtypes)\n",
    "\n",
    "# Aggregate the total female and male percentages\n",
    "total_female = data_cleaned['female'].sum()\n",
    "total_male = data_cleaned['male'].sum()\n",
    "\n",
    "# Check total values\n",
    "print(\"Total Female:\", total_female)\n",
    "print(\"Total Male:\", total_male)"
   ]
  },
  {
   "cell_type": "code",
   "execution_count": 22,
   "id": "807387da",
   "metadata": {
    "execution": {
     "iopub.execute_input": "2025-01-09T09:35:13.853494Z",
     "iopub.status.busy": "2025-01-09T09:35:13.853156Z",
     "iopub.status.idle": "2025-01-09T09:35:13.902630Z",
     "shell.execute_reply": "2025-01-09T09:35:13.901538Z"
    },
    "papermill": {
     "duration": 0.09092,
     "end_time": "2025-01-09T09:35:13.904822",
     "exception": false,
     "start_time": "2025-01-09T09:35:13.813902",
     "status": "completed"
    },
    "tags": []
   },
   "outputs": [
    {
     "data": {
      "text/plain": [
       "'plotly_pie.html'"
      ]
     },
     "execution_count": 22,
     "metadata": {},
     "output_type": "execute_result"
    }
   ],
   "source": [
    "# Prepare labels and values for the pie chart\n",
    "labels = ['Female', 'Male']\n",
    "values = [total_female, total_male]\n",
    "\n",
    "# Create a pie chart for gender distribution\n",
    "pie = go.Pie(\n",
    "    labels=labels,\n",
    "    values=values,\n",
    "    hoverinfo=\"label+value+percent\",\n",
    "    textinfo=\"value+percent\",\n",
    "    rotation=180,\n",
    "    hole=0.3,\n",
    "    marker=dict(\n",
    "        colors = [\"EFB6C8\", \"344CB7\"],\n",
    "        line=dict(color=\"rgba(0,0,0,1)\", width=1)\n",
    "    )\n",
    ")\n",
    "\n",
    "# Combine the pie chart into a data list\n",
    "data_ = [pie]\n",
    "\n",
    "# Define the layout with a title\n",
    "layout = dict(title=\"Gender Distribution Across Universities\")\n",
    "\n",
    "# Create the figure with data and layout\n",
    "fig = dict(data=data_, layout=layout)\n",
    "\n",
    "# Plot the figure\n",
    "plot(fig, filename = \"plotly_pie.html\")\n"
   ]
  },
  {
   "cell_type": "markdown",
   "id": "36f6db0a",
   "metadata": {
    "papermill": {
     "duration": 0.04207,
     "end_time": "2025-01-09T09:35:13.990590",
     "exception": false,
     "start_time": "2025-01-09T09:35:13.948520",
     "status": "completed"
    },
    "tags": []
   },
   "source": [
    "### Choropleth Graph"
   ]
  },
  {
   "cell_type": "code",
   "execution_count": 23,
   "id": "83ccd178",
   "metadata": {
    "execution": {
     "iopub.execute_input": "2025-01-09T09:35:14.134709Z",
     "iopub.status.busy": "2025-01-09T09:35:14.134349Z",
     "iopub.status.idle": "2025-01-09T09:35:14.155907Z",
     "shell.execute_reply": "2025-01-09T09:35:14.154952Z"
    },
    "papermill": {
     "duration": 0.122582,
     "end_time": "2025-01-09T09:35:14.157419",
     "exception": false,
     "start_time": "2025-01-09T09:35:14.034837",
     "status": "completed"
    },
    "tags": []
   },
   "outputs": [
    {
     "data": {
      "text/html": [
       "<div>\n",
       "<style scoped>\n",
       "    .dataframe tbody tr th:only-of-type {\n",
       "        vertical-align: middle;\n",
       "    }\n",
       "\n",
       "    .dataframe tbody tr th {\n",
       "        vertical-align: top;\n",
       "    }\n",
       "\n",
       "    .dataframe thead th {\n",
       "        text-align: right;\n",
       "    }\n",
       "</style>\n",
       "<table border=\"1\" class=\"dataframe\">\n",
       "  <thead>\n",
       "    <tr style=\"text-align: right;\">\n",
       "      <th></th>\n",
       "      <th>world_rank</th>\n",
       "      <th>university_name</th>\n",
       "      <th>teaching</th>\n",
       "      <th>international</th>\n",
       "      <th>research</th>\n",
       "      <th>citations</th>\n",
       "      <th>income</th>\n",
       "      <th>total_score</th>\n",
       "      <th>num_students</th>\n",
       "      <th>student_staff_ratio</th>\n",
       "      <th>international_students</th>\n",
       "      <th>female_male_ratio</th>\n",
       "      <th>year</th>\n",
       "      <th>female</th>\n",
       "      <th>male</th>\n",
       "    </tr>\n",
       "    <tr>\n",
       "      <th>country</th>\n",
       "      <th></th>\n",
       "      <th></th>\n",
       "      <th></th>\n",
       "      <th></th>\n",
       "      <th></th>\n",
       "      <th></th>\n",
       "      <th></th>\n",
       "      <th></th>\n",
       "      <th></th>\n",
       "      <th></th>\n",
       "      <th></th>\n",
       "      <th></th>\n",
       "      <th></th>\n",
       "      <th></th>\n",
       "      <th></th>\n",
       "    </tr>\n",
       "  </thead>\n",
       "  <tbody>\n",
       "    <tr>\n",
       "      <th>Australia</th>\n",
       "      <td>3671738115217837385874117173189283762658599176...</td>\n",
       "      <td>University of MelbourneUniversity of SydneyUni...</td>\n",
       "      <td>2114.3</td>\n",
       "      <td>88.089.687.574.270.787.182.593.888.180.875.885...</td>\n",
       "      <td>2518.8</td>\n",
       "      <td>3018.0</td>\n",
       "      <td>47.790.852.757.160.040.844.441.792.162.662.253...</td>\n",
       "      <td>71.061.260.759.151.248.571.971.262.458.651.144...</td>\n",
       "      <td>40,12841,86820,77134,71838,30950,88240,12814,6...</td>\n",
       "      <td>1177.9</td>\n",
       "      <td>35%28%26%27%33%36%35%35%28%27%36%33%27%35%35%2...</td>\n",
       "      <td>55 : 4557 : 4348 : 5253 : 4747 : 5356 : 4455 :...</td>\n",
       "      <td>88600</td>\n",
       "      <td>2310</td>\n",
       "      <td>2090</td>\n",
       "    </tr>\n",
       "    <tr>\n",
       "      <th>Austria</th>\n",
       "      <td>187195139162170182142</td>\n",
       "      <td>University of InnsbruckUniversity of ViennaUni...</td>\n",
       "      <td>291.1</td>\n",
       "      <td>99.563.286.686.389.591.092.6</td>\n",
       "      <td>294.7</td>\n",
       "      <td>380.7</td>\n",
       "      <td>35.027.025.429.129.329.430.2</td>\n",
       "      <td>47.246.747.950.246.246.954.2</td>\n",
       "      <td>18,20934,65134,65134,65134,65134,65134,651</td>\n",
       "      <td>139.9</td>\n",
       "      <td>39%25%25%25%25%25%25%</td>\n",
       "      <td>54 : 4667 : 3367 : 3367 : 3367 : 3367 : 3367 : 33</td>\n",
       "      <td>14092</td>\n",
       "      <td>456</td>\n",
       "      <td>244</td>\n",
       "    </tr>\n",
       "    <tr>\n",
       "      <th>Belgium</th>\n",
       "      <td>1191246710616958931641926185164172559017017135...</td>\n",
       "      <td>KU LeuvenGhent UniversityKU LeuvenGhent Univer...</td>\n",
       "      <td>906.3</td>\n",
       "      <td>29.624.756.747.372.556.649.164.358.558.649.561...</td>\n",
       "      <td>1051.1</td>\n",
       "      <td>1421.0</td>\n",
       "      <td>97.797.199.997.830.899.795.934.5100.099.994.61...</td>\n",
       "      <td>54.854.460.853.045.066.158.450.047.161.355.546...</td>\n",
       "      <td>42,50332,16642,50332,16628,85642,50332,16628,8...</td>\n",
       "      <td>787.2</td>\n",
       "      <td>18%9%18%9%19%18%9%19%16%18%9%16%19%18%9%16%19%...</td>\n",
       "      <td>54 : 4657 : 4354 : 4657 : 4354 : 4654 : 4657 :...</td>\n",
       "      <td>42290</td>\n",
       "      <td>1160</td>\n",
       "      <td>940</td>\n",
       "    </tr>\n",
       "  </tbody>\n",
       "</table>\n",
       "</div>"
      ],
      "text/plain": [
       "                                                  world_rank  \\\n",
       "country                                                        \n",
       "Australia  3671738115217837385874117173189283762658599176...   \n",
       "Austria                                187195139162170182142   \n",
       "Belgium    1191246710616958931641926185164172559017017135...   \n",
       "\n",
       "                                             university_name  teaching  \\\n",
       "country                                                                  \n",
       "Australia  University of MelbourneUniversity of SydneyUni...    2114.3   \n",
       "Austria    University of InnsbruckUniversity of ViennaUni...     291.1   \n",
       "Belgium    KU LeuvenGhent UniversityKU LeuvenGhent Univer...     906.3   \n",
       "\n",
       "                                               international  research  \\\n",
       "country                                                                  \n",
       "Australia  88.089.687.574.270.787.182.593.888.180.875.885...    2518.8   \n",
       "Austria                         99.563.286.686.389.591.092.6     294.7   \n",
       "Belgium    29.624.756.747.372.556.649.164.358.558.649.561...    1051.1   \n",
       "\n",
       "           citations                                             income  \\\n",
       "country                                                                   \n",
       "Australia     3018.0  47.790.852.757.160.040.844.441.792.162.662.253...   \n",
       "Austria        380.7                       35.027.025.429.129.329.430.2   \n",
       "Belgium       1421.0  97.797.199.997.830.899.795.934.5100.099.994.61...   \n",
       "\n",
       "                                                 total_score  \\\n",
       "country                                                        \n",
       "Australia  71.061.260.759.151.248.571.971.262.458.651.144...   \n",
       "Austria                         47.246.747.950.246.246.954.2   \n",
       "Belgium    54.854.460.853.045.066.158.450.047.161.355.546...   \n",
       "\n",
       "                                                num_students  \\\n",
       "country                                                        \n",
       "Australia  40,12841,86820,77134,71838,30950,88240,12814,6...   \n",
       "Austria           18,20934,65134,65134,65134,65134,65134,651   \n",
       "Belgium    42,50332,16642,50332,16628,85642,50332,16628,8...   \n",
       "\n",
       "           student_staff_ratio  \\\n",
       "country                          \n",
       "Australia               1177.9   \n",
       "Austria                  139.9   \n",
       "Belgium                  787.2   \n",
       "\n",
       "                                      international_students  \\\n",
       "country                                                        \n",
       "Australia  35%28%26%27%33%36%35%35%28%27%36%33%27%35%35%2...   \n",
       "Austria                                39%25%25%25%25%25%25%   \n",
       "Belgium    18%9%18%9%19%18%9%19%16%18%9%16%19%18%9%16%19%...   \n",
       "\n",
       "                                           female_male_ratio   year  female  \\\n",
       "country                                                                       \n",
       "Australia  55 : 4557 : 4348 : 5253 : 4747 : 5356 : 4455 :...  88600    2310   \n",
       "Austria    54 : 4667 : 3367 : 3367 : 3367 : 3367 : 3367 : 33  14092     456   \n",
       "Belgium    54 : 4657 : 4354 : 4657 : 4354 : 4654 : 4657 :...  42290    1160   \n",
       "\n",
       "           male  \n",
       "country          \n",
       "Australia  2090  \n",
       "Austria     244  \n",
       "Belgium     940  "
      ]
     },
     "execution_count": 23,
     "metadata": {},
     "output_type": "execute_result"
    }
   ],
   "source": [
    "country_data = data_cleaned.groupby(\"country\").sum()\n",
    "country_data.head(3)"
   ]
  },
  {
   "cell_type": "code",
   "execution_count": 24,
   "id": "632e583d",
   "metadata": {
    "execution": {
     "iopub.execute_input": "2025-01-09T09:35:14.245335Z",
     "iopub.status.busy": "2025-01-09T09:35:14.244955Z",
     "iopub.status.idle": "2025-01-09T09:35:14.390335Z",
     "shell.execute_reply": "2025-01-09T09:35:14.388986Z"
    },
    "papermill": {
     "duration": 0.191465,
     "end_time": "2025-01-09T09:35:14.392350",
     "exception": false,
     "start_time": "2025-01-09T09:35:14.200885",
     "status": "completed"
    },
    "tags": []
   },
   "outputs": [
    {
     "data": {
      "text/plain": [
       "'plotly_choropleth.html'"
      ]
     },
     "execution_count": 24,
     "metadata": {},
     "output_type": "execute_result"
    }
   ],
   "source": [
    "# Create the choropleth map\n",
    "choropleth = go.Choropleth(\n",
    "    locations=country_data.index,  # Country names\n",
    "    locationmode=\"country names\",  # Match country names to Plotly's database\n",
    "    z=country_data[\"citations\"],  # Data to represent (total scores)\n",
    "    text = country_data.index,\n",
    "    autocolorscale = False,\n",
    "    reversescale = True,\n",
    "    colorscale='iceFire',  # Color scheme\n",
    "    colorbar_title='Total Citations',  # Color bar title\n",
    ")\n",
    "\n",
    "# Define the layout for the map\n",
    "layout = go.Layout(\n",
    "    title = \"Total Citations by Country\",\n",
    "    geo = dict(\n",
    "        showframe = True,\n",
    "        showlakes = False,\n",
    "        showcoastlines = True,\n",
    "        projection = dict(type = \"natural earth\")\n",
    "    )\n",
    ")\n",
    "\n",
    "# Create the figure and plot it\n",
    "fig = go.Figure(data=[choropleth], layout=layout)\n",
    "plot(fig, filename = \"plotly_choropleth.html\")\n"
   ]
  },
  {
   "cell_type": "markdown",
   "id": "bccb5bde",
   "metadata": {
    "papermill": {
     "duration": 0.047829,
     "end_time": "2025-01-09T09:35:14.489123",
     "exception": false,
     "start_time": "2025-01-09T09:35:14.441294",
     "status": "completed"
    },
    "tags": []
   },
   "source": [
    "### 3D Graph"
   ]
  },
  {
   "cell_type": "code",
   "execution_count": 25,
   "id": "c0411709",
   "metadata": {
    "execution": {
     "iopub.execute_input": "2025-01-09T09:35:14.586783Z",
     "iopub.status.busy": "2025-01-09T09:35:14.586403Z",
     "iopub.status.idle": "2025-01-09T09:35:14.677464Z",
     "shell.execute_reply": "2025-01-09T09:35:14.676277Z"
    },
    "papermill": {
     "duration": 0.144503,
     "end_time": "2025-01-09T09:35:14.681489",
     "exception": false,
     "start_time": "2025-01-09T09:35:14.536986",
     "status": "completed"
    },
    "tags": []
   },
   "outputs": [
    {
     "data": {
      "text/plain": [
       "'plotly_3d_graph.html'"
      ]
     },
     "execution_count": 25,
     "metadata": {},
     "output_type": "execute_result"
    }
   ],
   "source": [
    "threeD = go.Scatter3d(\n",
    "    x=data_cleaned.citations,  # X-axis\n",
    "    y=data_cleaned.research,  # Y-axis\n",
    "    z=data_cleaned.total_score,  # Z-axis\n",
    "    mode=\"markers\",  # Marker style\n",
    "    marker=dict(\n",
    "        size=5,\n",
    "        color=\"lightblue\",  # Color by total score\n",
    "        opacity=0.8\n",
    "    ),\n",
    "    text=data_cleaned.university_name  # Hover text\n",
    ")\n",
    "\n",
    "layout = go.Layout(\n",
    "    title=\"3D Scatter Plot of Citation, Research, and Total Scores\",\n",
    "    scene=dict(\n",
    "        xaxis_title='Citations',\n",
    "        yaxis_title='Research',\n",
    "        zaxis_title='Total Score'\n",
    "    )\n",
    ")\n",
    "\n",
    "# Create the figure and plot it\n",
    "fig = go.Figure(data=[threeD], layout=layout)\n",
    "plot(fig, filename = \"plotly_3d_graph.html\")\n"
   ]
  },
  {
   "cell_type": "code",
   "execution_count": 26,
   "id": "f3bd0b2e",
   "metadata": {
    "execution": {
     "iopub.execute_input": "2025-01-09T09:35:14.828050Z",
     "iopub.status.busy": "2025-01-09T09:35:14.827542Z",
     "iopub.status.idle": "2025-01-09T09:35:14.903029Z",
     "shell.execute_reply": "2025-01-09T09:35:14.901863Z"
    },
    "papermill": {
     "duration": 0.164845,
     "end_time": "2025-01-09T09:35:14.906156",
     "exception": false,
     "start_time": "2025-01-09T09:35:14.741311",
     "status": "completed"
    },
    "tags": []
   },
   "outputs": [
    {
     "data": {
      "text/plain": [
       "'plotly_subplot.html'"
      ]
     },
     "execution_count": 26,
     "metadata": {},
     "output_type": "execute_result"
    }
   ],
   "source": [
    "# Filter data for the year 2015\n",
    "data2016 = data_cleaned[data_cleaned.year == 2016]\n",
    "\n",
    "# Bar plot for citations\n",
    "sub1 = go.Bar(\n",
    "    x = data2016.world_rank,  # X-axis: country\n",
    "    y = data2016.income,     # Y-axis: total score\n",
    "    name = \"Income\"          # Legend name for this plot\n",
    ")\n",
    "\n",
    "# Line plot for research\n",
    "sub2 = go.Scatter(\n",
    "    x = data2016.world_rank,\n",
    "    y = data2016.research,  # Assuming 'research' is another column\n",
    "    name = \"Research\",\n",
    "    xaxis = \"x2\",              # Link to secondary x-axis\n",
    "    yaxis = \"y2\"               # Link to secondary y-axis\n",
    ")\n",
    "\n",
    "# Bar plot for another variable (e.g., citations count)\n",
    "sub3 = go.Bar(\n",
    "    x = data2016.world_rank,\n",
    "    y = data2016.citations,  # Assuming 'citations' is another column\n",
    "    name = \"Citations\",\n",
    "    xaxis = \"x3\",              # Link to third x-axis\n",
    "    yaxis = \"y3\"               # Link to third y-axis\n",
    ")\n",
    "\n",
    "# Line plot for another variable (e.g., score trend over time or similar)\n",
    "sub4 = go.Scatter(\n",
    "    x = data2016.world_rank,\n",
    "    y = data2016.total_score,  # Replace with another variable if needed\n",
    "    name = \"Total Score Trend\",\n",
    "    xaxis = \"x4\",              # Link to fourth x-axis\n",
    "    yaxis = \"y4\"               # Link to fourth y-axis\n",
    ")\n",
    "\n",
    "data_ = [sub1, sub2, sub3, sub4]\n",
    "\n",
    "# Layout configuration for subplots in a 2x2 grid\n",
    "layout = go.Layout(\n",
    "    # First subplot (top-left)\n",
    "    xaxis = dict(domain=[0, 0.45]),  # First plot takes the left half\n",
    "    yaxis = dict(domain=[0.55, 1]),  # First plot takes the top half\n",
    "    \n",
    "    # Second subplot (top-right)\n",
    "    xaxis2 = dict(domain=[0.55, 1]),  # Second plot takes the right half\n",
    "    yaxis2 = dict(domain=[0.55, 1], anchor=\"x2\"),  # Second plot takes the top half\n",
    "    \n",
    "    # Third subplot (bottom-left)\n",
    "    xaxis3 = dict(domain=[0, 0.45]),  # Third plot takes the left half\n",
    "    yaxis3 = dict(domain=[0, 0.45], anchor=\"x3\"),  # Third plot takes the bottom half\n",
    "    \n",
    "    # Fourth subplot (bottom-right)\n",
    "    xaxis4 = dict(domain=[0.55, 1]),  # Fourth plot takes the right half\n",
    "    yaxis4 = dict(domain=[0, 0.45], anchor=\"x4\"),  # Fourth plot takes the bottom half\n",
    "\n",
    "    # Adding space between the top and bottom rows\n",
    "    margin = dict(t=6, b=10),  # Increase bottom margin and top margin for spacing\n",
    ")\n",
    "\n",
    "# Create the figure using the data and layout\n",
    "fig = go.Figure(data=data_, layout=layout)\n",
    "plot(fig, filename = \"plotly_subplot.html\")"
   ]
  },
  {
   "cell_type": "markdown",
   "id": "dc5cfd69",
   "metadata": {
    "papermill": {
     "duration": 0.067296,
     "end_time": "2025-01-09T09:35:15.055036",
     "exception": false,
     "start_time": "2025-01-09T09:35:14.987740",
     "status": "completed"
    },
    "tags": []
   },
   "source": [
    "### Comparison Boxplots"
   ]
  },
  {
   "cell_type": "code",
   "execution_count": 27,
   "id": "83aa4eec",
   "metadata": {
    "execution": {
     "iopub.execute_input": "2025-01-09T09:35:15.190181Z",
     "iopub.status.busy": "2025-01-09T09:35:15.189766Z",
     "iopub.status.idle": "2025-01-09T09:35:15.225411Z",
     "shell.execute_reply": "2025-01-09T09:35:15.224274Z"
    },
    "papermill": {
     "duration": 0.105393,
     "end_time": "2025-01-09T09:35:15.227340",
     "exception": false,
     "start_time": "2025-01-09T09:35:15.121947",
     "status": "completed"
    },
    "tags": []
   },
   "outputs": [
    {
     "data": {
      "text/plain": [
       "'plotly_comparison_boxplot.html'"
      ]
     },
     "execution_count": 27,
     "metadata": {},
     "output_type": "execute_result"
    }
   ],
   "source": [
    "# Filter the data for the year 2015 and select the first 100 rows\n",
    "data_cleaned_fixed = data_cleaned.iloc[:100, :]\n",
    "\n",
    "# Add box plots\n",
    "box1 = go.Box(y=data_cleaned_fixed.total_score.astype(\"float\"), name='Total Score')\n",
    "box2 = go.Box(y=data_cleaned_fixed.research, name='Research')\n",
    "box3 = go.Box(y=data_cleaned_fixed.citations, name='Citations')\n",
    "box4 = go.Box(y=data_cleaned_fixed.income, name='Income')\n",
    "\n",
    "layout = go.Layout(\n",
    "    title=\"Comparison of Scores\",\n",
    "    yaxis_title=\"Score\",\n",
    "    boxmode=\"group\"  # Group box plots together\n",
    ")\n",
    "\n",
    "# Combine all three box plots into a data list\n",
    "data_ = [box1, box2, box3, box4]\n",
    "\n",
    "plot(data_, filename = \"plotly_comparison_boxplot.html\")\n"
   ]
  },
  {
   "cell_type": "markdown",
   "id": "7ec9dceb",
   "metadata": {
    "papermill": {
     "duration": 0.107421,
     "end_time": "2025-01-09T09:35:16.904109",
     "exception": false,
     "start_time": "2025-01-09T09:35:16.796688",
     "status": "completed"
    },
    "tags": []
   },
   "source": [
    "## Variable Analysis\n",
    "### Univariate Analysis"
   ]
  },
  {
   "cell_type": "code",
   "execution_count": 34,
   "id": "282be3dd",
   "metadata": {
    "execution": {
     "iopub.execute_input": "2025-01-09T09:35:17.120964Z",
     "iopub.status.busy": "2025-01-09T09:35:17.120242Z",
     "iopub.status.idle": "2025-01-09T09:35:17.126488Z",
     "shell.execute_reply": "2025-01-09T09:35:17.125538Z"
    },
    "papermill": {
     "duration": 0.116198,
     "end_time": "2025-01-09T09:35:17.128363",
     "exception": false,
     "start_time": "2025-01-09T09:35:17.012165",
     "status": "completed"
    },
    "tags": []
   },
   "outputs": [],
   "source": [
    "# Visualizing categorical variables\n",
    "# Define a function to plot the bar chart for a given variable\n",
    "def plotbar(variable, n = 5): # Visualize at most 5 categories\n",
    "    data_ = data[variable]\n",
    "    data_count = data_.value_counts()  # Count occurrences of each category\n",
    "    data_count = data_count[:n]  # Take the top 'n' categories\n",
    "\n",
    "    plt.figure(figsize=(6,2))\n",
    "    plt.bar(data_count.index, data_count, color = \"green\")\n",
    "    plt.xticks(data_count.index, data_count.index.values)\n",
    "    plt.xticks(rotation = 43) # Rotate x-axis labels for better visibility\n",
    "    plt.ylabel(\"Frequency\")\n",
    "    plt.title(f\"Data Frequency: {variable}\")\n",
    "    plt.show()\n",
    "    print(f\"{data_count}\")"
   ]
  },
  {
   "cell_type": "code",
   "execution_count": 35,
   "id": "493f99bc",
   "metadata": {
    "execution": {
     "iopub.execute_input": "2025-01-09T09:35:17.346155Z",
     "iopub.status.busy": "2025-01-09T09:35:17.345750Z",
     "iopub.status.idle": "2025-01-09T09:35:19.277887Z",
     "shell.execute_reply": "2025-01-09T09:35:19.276709Z"
    },
    "papermill": {
     "duration": 2.042198,
     "end_time": "2025-01-09T09:35:19.279702",
     "exception": false,
     "start_time": "2025-01-09T09:35:17.237504",
     "status": "completed"
    },
    "tags": []
   },
   "outputs": [
    {
     "data": {
      "image/png": "[encoded data removed]",
      "text/plain": [
       "<Figure size 600x200 with 1 Axes>"
      ]
     },
     "metadata": {},
     "output_type": "display_data"
    },
    {
     "name": "stdout",
     "output_type": "stream",
     "text": [
      "world_rank\n",
      "301-350    248\n",
      "601-800    200\n",
      "351-400    198\n",
      "276-300    104\n",
      "201-225    103\n",
      "226-250    100\n",
      "501-600    100\n",
      "401-500     99\n",
      "251-275     97\n",
      "201-250     53\n",
      "Name: count, dtype: int64\n"
     ]
    },
    {
     "data": {
      "image/png": "[encoded data removed]",
      "text/plain": [
       "<Figure size 600x200 with 1 Axes>"
      ]
     },
     "metadata": {},
     "output_type": "display_data"
    },
    {
     "name": "stdout",
     "output_type": "stream",
     "text": [
      "university_name\n",
      "Harvard University        6\n",
      "Lancaster University      6\n",
      "University of Alberta     6\n",
      "University of Glasgow     6\n",
      "Stockholm University      6\n",
      "Osaka University          6\n",
      "University of Victoria    6\n",
      "Tohoku University         6\n",
      "University of Freiburg    6\n",
      "University of Iowa        6\n",
      "Name: count, dtype: int64\n"
     ]
    },
    {
     "data": {
      "image/png": "[encoded data removed]",
      "text/plain": [
       "<Figure size 600x200 with 1 Axes>"
      ]
     },
     "metadata": {},
     "output_type": "display_data"
    },
    {
     "name": "stdout",
     "output_type": "stream",
     "text": [
      "country\n",
      "United States of America    659\n",
      "United Kingdom              300\n",
      "Germany                     152\n",
      "Australia                   117\n",
      "Canada                      108\n",
      "Japan                        98\n",
      "Italy                        94\n",
      "China                        83\n",
      "Netherlands                  75\n",
      "France                       73\n",
      "Name: count, dtype: int64\n"
     ]
    },
    {
     "data": {
      "image/png": "[encoded data removed]",
      "text/plain": [
       "<Figure size 600x200 with 1 Axes>"
      ]
     },
     "metadata": {},
     "output_type": "display_data"
    },
    {
     "name": "stdout",
     "output_type": "stream",
     "text": [
      "international\n",
      "29.6    10\n",
      "20.7    10\n",
      "62.8     9\n",
      "46.8     9\n",
      "34.3     9\n",
      "48.4     9\n",
      "38.1     8\n",
      "36.0     8\n",
      "84.8     8\n",
      "54.4     8\n",
      "Name: count, dtype: int64\n"
     ]
    },
    {
     "data": {
      "image/png": "[encoded data removed]",
      "text/plain": [
       "<Figure size 600x200 with 1 Axes>"
      ]
     },
     "metadata": {},
     "output_type": "display_data"
    },
    {
     "name": "stdout",
     "output_type": "stream",
     "text": [
      "income\n",
      "100.0    68\n",
      "28.0     26\n",
      "31.1     20\n",
      "28.8     19\n",
      "28.5     18\n",
      "32.3     16\n",
      "30.3     14\n",
      "99.9     14\n",
      "34.4     14\n",
      "31.3     14\n",
      "Name: count, dtype: int64\n"
     ]
    },
    {
     "data": {
      "image/png": "[encoded data removed]",
      "text/plain": [
       "<Figure size 600x200 with 1 Axes>"
      ]
     },
     "metadata": {},
     "output_type": "display_data"
    },
    {
     "name": "stdout",
     "output_type": "stream",
     "text": [
      "total_score\n",
      "49.0    13\n",
      "51.1    12\n",
      "46.6    11\n",
      "56.1    10\n",
      "51.2    10\n",
      "50.1    10\n",
      "46.9    10\n",
      "51.9     9\n",
      "54.5     9\n",
      "50.2     9\n",
      "Name: count, dtype: int64\n"
     ]
    },
    {
     "data": {
      "image/png": "[encoded data removed]",
      "text/plain": [
       "<Figure size 600x200 with 1 Axes>"
      ]
     },
     "metadata": {},
     "output_type": "display_data"
    },
    {
     "name": "stdout",
     "output_type": "stream",
     "text": [
      "international_students\n",
      "7%     142\n",
      "10%    133\n",
      "9%     130\n",
      "5%     120\n",
      "8%     119\n",
      "12%    104\n",
      "15%    103\n",
      "11%    100\n",
      "16%     90\n",
      "1%      80\n",
      "Name: count, dtype: int64\n"
     ]
    },
    {
     "data": {
      "image/png": "[encoded data removed]",
      "text/plain": [
       "<Figure size 600x200 with 1 Axes>"
      ]
     },
     "metadata": {},
     "output_type": "display_data"
    },
    {
     "name": "stdout",
     "output_type": "stream",
     "text": [
      "female_male_ratio\n",
      "54 : 46    185\n",
      "52 : 48    151\n",
      "53 : 47    138\n",
      "55 : 45    135\n",
      "56 : 44    132\n",
      "51 : 49    118\n",
      "48 : 52    117\n",
      "50 : 50    112\n",
      "57 : 43    111\n",
      "58 : 42     80\n",
      "Name: count, dtype: int64\n"
     ]
    }
   ],
   "source": [
    "# Identify categorical columns in the dataset\n",
    "categorical_columns = data_cleaned.select_dtypes(include= [\"object\"]).columns\n",
    "# Plot bar charts for all categorical variables\n",
    "for variable in categorical_columns:\n",
    "    plotbar(variable, 10)"
   ]
  },
  {
   "cell_type": "markdown",
   "id": "f35acbd9",
   "metadata": {
    "papermill": {
     "duration": 0.113565,
     "end_time": "2025-01-09T09:35:19.509488",
     "exception": false,
     "start_time": "2025-01-09T09:35:19.395923",
     "status": "completed"
    },
    "tags": []
   },
   "source": [
    "### Bivariate analysis\n",
    "For this example, we plot the relationship between 'research' and 'total_score' for the selected countries."
   ]
  },
  {
   "cell_type": "code",
   "execution_count": 36,
   "id": "20359a96",
   "metadata": {
    "execution": {
     "iopub.execute_input": "2025-01-09T09:35:19.740187Z",
     "iopub.status.busy": "2025-01-09T09:35:19.739811Z",
     "iopub.status.idle": "2025-01-09T09:35:19.780707Z",
     "shell.execute_reply": "2025-01-09T09:35:19.779558Z"
    },
    "papermill": {
     "duration": 0.15991,
     "end_time": "2025-01-09T09:35:19.782786",
     "exception": false,
     "start_time": "2025-01-09T09:35:19.622876",
     "status": "completed"
    },
    "tags": []
   },
   "outputs": [
    {
     "data": {
      "text/plain": [
       "'bivariate_analysis.html'"
      ]
     },
     "execution_count": 36,
     "metadata": {},
     "output_type": "execute_result"
    }
   ],
   "source": [
    "# Filter data for United States and United Kingdom\n",
    "usa_data = data_cleaned[data_cleaned.country == 'United States of America']\n",
    "uk_data = data_cleaned[data_cleaned.country == 'United Kingdom']\n",
    "\n",
    "# Create scatter plot for the United States\n",
    "trace_usa = go.Scatter(\n",
    "    x=usa_data['research'],  # X-axis: Research score\n",
    "    y=usa_data['total_score'],  # Y-axis: Total score\n",
    "    mode='markers',  # Use markers for the scatter plot\n",
    "    name='United States',  # Legend name for United States\n",
    "    marker=dict(color='blue', opacity=0.6)  # Marker customization for the USA data points\n",
    ")\n",
    "\n",
    "# Create scatter plot for the United Kingdom\n",
    "trace_uk = go.Scatter(\n",
    "    x=uk_data['research'],  # X-axis: Research score\n",
    "    y=uk_data['total_score'],  # Y-axis: Total score\n",
    "    mode='markers',  # Use markers for the scatter plot\n",
    "    name='United Kingdom',  # Legend name for the UK\n",
    "    marker=dict(color='red', opacity=0.6)  # Marker customization for the UK data points\n",
    ")\n",
    "\n",
    "# Combine the traces\n",
    "data = [trace_usa, trace_uk]\n",
    "\n",
    "# Create layout for the plot\n",
    "layout = go.Layout(\n",
    "    title='Relationship Between Research and Total Score by Country',\n",
    "    xaxis=dict(title='Research Score'),\n",
    "    yaxis=dict(title='Total Score'),\n",
    "    showlegend=True  # Display legend for the countries\n",
    ")\n",
    "\n",
    "# Create figure and plot\n",
    "fig = go.Figure(data=data, layout=layout)\n",
    "plot(fig, filename = \"bivariate_analysis.html\")\n"
   ]
  },
  {
   "cell_type": "markdown",
   "id": "f02ce041",
   "metadata": {
    "papermill": {
     "duration": 0.11824,
     "end_time": "2025-01-09T09:35:20.078174",
     "exception": false,
     "start_time": "2025-01-09T09:35:19.959934",
     "status": "completed"
    },
    "tags": []
   },
   "source": [
    "### Correlation Between Numeric Variables"
   ]
  },
  {
   "cell_type": "code",
   "execution_count": 37,
   "id": "d839c125",
   "metadata": {
    "execution": {
     "iopub.execute_input": "2025-01-09T09:35:20.315160Z",
     "iopub.status.busy": "2025-01-09T09:35:20.314783Z",
     "iopub.status.idle": "2025-01-09T09:35:20.329372Z",
     "shell.execute_reply": "2025-01-09T09:35:20.328176Z"
    },
    "papermill": {
     "duration": 0.136288,
     "end_time": "2025-01-09T09:35:20.331386",
     "exception": false,
     "start_time": "2025-01-09T09:35:20.195098",
     "status": "completed"
    },
    "tags": []
   },
   "outputs": [
    {
     "data": {
      "text/html": [
       "<div>\n",
       "<style scoped>\n",
       "    .dataframe tbody tr th:only-of-type {\n",
       "        vertical-align: middle;\n",
       "    }\n",
       "\n",
       "    .dataframe tbody tr th {\n",
       "        vertical-align: top;\n",
       "    }\n",
       "\n",
       "    .dataframe thead th {\n",
       "        text-align: right;\n",
       "    }\n",
       "</style>\n",
       "<table border=\"1\" class=\"dataframe\">\n",
       "  <thead>\n",
       "    <tr style=\"text-align: right;\">\n",
       "      <th></th>\n",
       "      <th>research</th>\n",
       "      <th>citations</th>\n",
       "      <th>total_score</th>\n",
       "      <th>income</th>\n",
       "    </tr>\n",
       "  </thead>\n",
       "  <tbody>\n",
       "    <tr>\n",
       "      <th>research</th>\n",
       "      <td>1.000000</td>\n",
       "      <td>0.204552</td>\n",
       "      <td>0.903944</td>\n",
       "      <td>0.312907</td>\n",
       "    </tr>\n",
       "    <tr>\n",
       "      <th>citations</th>\n",
       "      <td>0.204552</td>\n",
       "      <td>1.000000</td>\n",
       "      <td>0.558800</td>\n",
       "      <td>-0.129374</td>\n",
       "    </tr>\n",
       "    <tr>\n",
       "      <th>total_score</th>\n",
       "      <td>0.903944</td>\n",
       "      <td>0.558800</td>\n",
       "      <td>1.000000</td>\n",
       "      <td>0.238055</td>\n",
       "    </tr>\n",
       "    <tr>\n",
       "      <th>income</th>\n",
       "      <td>0.312907</td>\n",
       "      <td>-0.129374</td>\n",
       "      <td>0.238055</td>\n",
       "      <td>1.000000</td>\n",
       "    </tr>\n",
       "  </tbody>\n",
       "</table>\n",
       "</div>"
      ],
      "text/plain": [
       "             research  citations  total_score    income\n",
       "research     1.000000   0.204552     0.903944  0.312907\n",
       "citations    0.204552   1.000000     0.558800 -0.129374\n",
       "total_score  0.903944   0.558800     1.000000  0.238055\n",
       "income       0.312907  -0.129374     0.238055  1.000000"
      ]
     },
     "execution_count": 37,
     "metadata": {},
     "output_type": "execute_result"
    }
   ],
   "source": [
    "# Calculate correlation between numeric variables\n",
    "numeric_correlation = data_cleaned.loc[:, [\"research\", \"citations\", \"total_score\", \"income\"]].corr() # correlation calculation\n",
    "numeric_correlation"
   ]
  },
  {
   "cell_type": "markdown",
   "id": "b2698ae5",
   "metadata": {
    "papermill": {
     "duration": 0.121361,
     "end_time": "2025-01-09T09:35:20.573237",
     "exception": false,
     "start_time": "2025-01-09T09:35:20.451876",
     "status": "completed"
    },
    "tags": []
   },
   "source": [
    "### Pivot Table"
   ]
  },
  {
   "cell_type": "code",
   "execution_count": 38,
   "id": "7efd87ac",
   "metadata": {
    "execution": {
     "iopub.execute_input": "2025-01-09T09:35:20.815002Z",
     "iopub.status.busy": "2025-01-09T09:35:20.814575Z",
     "iopub.status.idle": "2025-01-09T09:35:20.842705Z",
     "shell.execute_reply": "2025-01-09T09:35:20.841584Z"
    },
    "papermill": {
     "duration": 0.148883,
     "end_time": "2025-01-09T09:35:20.844408",
     "exception": false,
     "start_time": "2025-01-09T09:35:20.695525",
     "status": "completed"
    },
    "tags": []
   },
   "outputs": [
    {
     "data": {
      "text/html": [
       "<div>\n",
       "<style scoped>\n",
       "    .dataframe tbody tr th:only-of-type {\n",
       "        vertical-align: middle;\n",
       "    }\n",
       "\n",
       "    .dataframe tbody tr th {\n",
       "        vertical-align: top;\n",
       "    }\n",
       "\n",
       "    .dataframe thead th {\n",
       "        text-align: right;\n",
       "    }\n",
       "</style>\n",
       "<table border=\"1\" class=\"dataframe\">\n",
       "  <thead>\n",
       "    <tr style=\"text-align: right;\">\n",
       "      <th>year</th>\n",
       "      <th>2011</th>\n",
       "      <th>2012</th>\n",
       "      <th>2013</th>\n",
       "      <th>2014</th>\n",
       "      <th>2015</th>\n",
       "      <th>2016</th>\n",
       "    </tr>\n",
       "    <tr>\n",
       "      <th>country</th>\n",
       "      <th></th>\n",
       "      <th></th>\n",
       "      <th></th>\n",
       "      <th></th>\n",
       "      <th></th>\n",
       "      <th></th>\n",
       "    </tr>\n",
       "  </thead>\n",
       "  <tbody>\n",
       "    <tr>\n",
       "      <th>Australia</th>\n",
       "      <td>51.833333</td>\n",
       "      <td>55.714286</td>\n",
       "      <td>63.775000</td>\n",
       "      <td>53.771429</td>\n",
       "      <td>55.725000</td>\n",
       "      <td>60.675000</td>\n",
       "    </tr>\n",
       "    <tr>\n",
       "      <th>Austria</th>\n",
       "      <td>40.250000</td>\n",
       "      <td>41.200000</td>\n",
       "      <td>46.700000</td>\n",
       "      <td>36.100000</td>\n",
       "      <td>39.700000</td>\n",
       "      <td>50.500000</td>\n",
       "    </tr>\n",
       "    <tr>\n",
       "      <th>Belgium</th>\n",
       "      <td>61.000000</td>\n",
       "      <td>50.533333</td>\n",
       "      <td>50.925000</td>\n",
       "      <td>44.325000</td>\n",
       "      <td>45.925000</td>\n",
       "      <td>53.200000</td>\n",
       "    </tr>\n",
       "    <tr>\n",
       "      <th>Brazil</th>\n",
       "      <td>NaN</td>\n",
       "      <td>58.000000</td>\n",
       "      <td>65.700000</td>\n",
       "      <td>NaN</td>\n",
       "      <td>NaN</td>\n",
       "      <td>NaN</td>\n",
       "    </tr>\n",
       "    <tr>\n",
       "      <th>Canada</th>\n",
       "      <td>59.000000</td>\n",
       "      <td>51.337500</td>\n",
       "      <td>56.514286</td>\n",
       "      <td>50.700000</td>\n",
       "      <td>48.414286</td>\n",
       "      <td>54.600000</td>\n",
       "    </tr>\n",
       "    <tr>\n",
       "      <th>China</th>\n",
       "      <td>47.200000</td>\n",
       "      <td>70.100000</td>\n",
       "      <td>76.400000</td>\n",
       "      <td>65.900000</td>\n",
       "      <td>51.150000</td>\n",
       "      <td>83.000000</td>\n",
       "    </tr>\n",
       "    <tr>\n",
       "      <th>Denmark</th>\n",
       "      <td>49.400000</td>\n",
       "      <td>34.900000</td>\n",
       "      <td>41.666667</td>\n",
       "      <td>35.100000</td>\n",
       "      <td>36.700000</td>\n",
       "      <td>41.100000</td>\n",
       "    </tr>\n",
       "    <tr>\n",
       "      <th>Egypt</th>\n",
       "      <td>28.000000</td>\n",
       "      <td>NaN</td>\n",
       "      <td>NaN</td>\n",
       "      <td>NaN</td>\n",
       "      <td>NaN</td>\n",
       "      <td>NaN</td>\n",
       "    </tr>\n",
       "    <tr>\n",
       "      <th>Finland</th>\n",
       "      <td>51.400000</td>\n",
       "      <td>54.200000</td>\n",
       "      <td>53.000000</td>\n",
       "      <td>46.500000</td>\n",
       "      <td>48.100000</td>\n",
       "      <td>60.400000</td>\n",
       "    </tr>\n",
       "    <tr>\n",
       "      <th>France</th>\n",
       "      <td>39.933333</td>\n",
       "      <td>31.050000</td>\n",
       "      <td>42.750000</td>\n",
       "      <td>30.183333</td>\n",
       "      <td>33.360000</td>\n",
       "      <td>36.975000</td>\n",
       "    </tr>\n",
       "    <tr>\n",
       "      <th>Germany</th>\n",
       "      <td>43.066667</td>\n",
       "      <td>34.254545</td>\n",
       "      <td>44.544444</td>\n",
       "      <td>41.775000</td>\n",
       "      <td>43.750000</td>\n",
       "      <td>49.905556</td>\n",
       "    </tr>\n",
       "    <tr>\n",
       "      <th>Hong Kong</th>\n",
       "      <td>49.866667</td>\n",
       "      <td>55.100000</td>\n",
       "      <td>63.600000</td>\n",
       "      <td>62.300000</td>\n",
       "      <td>53.000000</td>\n",
       "      <td>60.650000</td>\n",
       "    </tr>\n",
       "    <tr>\n",
       "      <th>Israel</th>\n",
       "      <td>NaN</td>\n",
       "      <td>56.400000</td>\n",
       "      <td>53.000000</td>\n",
       "      <td>37.000000</td>\n",
       "      <td>NaN</td>\n",
       "      <td>41.400000</td>\n",
       "    </tr>\n",
       "    <tr>\n",
       "      <th>Italy</th>\n",
       "      <td>NaN</td>\n",
       "      <td>NaN</td>\n",
       "      <td>NaN</td>\n",
       "      <td>NaN</td>\n",
       "      <td>46.000000</td>\n",
       "      <td>34.566667</td>\n",
       "    </tr>\n",
       "    <tr>\n",
       "      <th>Japan</th>\n",
       "      <td>63.100000</td>\n",
       "      <td>57.033333</td>\n",
       "      <td>55.800000</td>\n",
       "      <td>49.033333</td>\n",
       "      <td>49.400000</td>\n",
       "      <td>NaN</td>\n",
       "    </tr>\n",
       "    <tr>\n",
       "      <th>Luxembourg</th>\n",
       "      <td>NaN</td>\n",
       "      <td>NaN</td>\n",
       "      <td>NaN</td>\n",
       "      <td>NaN</td>\n",
       "      <td>NaN</td>\n",
       "      <td>26.700000</td>\n",
       "    </tr>\n",
       "    <tr>\n",
       "      <th>Netherlands</th>\n",
       "      <td>54.100000</td>\n",
       "      <td>46.727273</td>\n",
       "      <td>58.150000</td>\n",
       "      <td>49.933333</td>\n",
       "      <td>52.381818</td>\n",
       "      <td>55.400000</td>\n",
       "    </tr>\n",
       "    <tr>\n",
       "      <th>New Zealand</th>\n",
       "      <td>39.200000</td>\n",
       "      <td>35.000000</td>\n",
       "      <td>40.900000</td>\n",
       "      <td>33.500000</td>\n",
       "      <td>33.400000</td>\n",
       "      <td>39.500000</td>\n",
       "    </tr>\n",
       "    <tr>\n",
       "      <th>Norway</th>\n",
       "      <td>42.100000</td>\n",
       "      <td>26.600000</td>\n",
       "      <td>NaN</td>\n",
       "      <td>NaN</td>\n",
       "      <td>NaN</td>\n",
       "      <td>31.500000</td>\n",
       "    </tr>\n",
       "    <tr>\n",
       "      <th>Republic of Ireland</th>\n",
       "      <td>45.300000</td>\n",
       "      <td>23.500000</td>\n",
       "      <td>33.500000</td>\n",
       "      <td>25.200000</td>\n",
       "      <td>30.300000</td>\n",
       "      <td>30.800000</td>\n",
       "    </tr>\n",
       "    <tr>\n",
       "      <th>Russian Federation</th>\n",
       "      <td>NaN</td>\n",
       "      <td>NaN</td>\n",
       "      <td>NaN</td>\n",
       "      <td>NaN</td>\n",
       "      <td>42.100000</td>\n",
       "      <td>66.700000</td>\n",
       "    </tr>\n",
       "    <tr>\n",
       "      <th>Singapore</th>\n",
       "      <td>62.150000</td>\n",
       "      <td>63.400000</td>\n",
       "      <td>77.050000</td>\n",
       "      <td>66.050000</td>\n",
       "      <td>67.000000</td>\n",
       "      <td>72.900000</td>\n",
       "    </tr>\n",
       "    <tr>\n",
       "      <th>South Africa</th>\n",
       "      <td>NaN</td>\n",
       "      <td>41.100000</td>\n",
       "      <td>45.500000</td>\n",
       "      <td>31.000000</td>\n",
       "      <td>35.300000</td>\n",
       "      <td>38.700000</td>\n",
       "    </tr>\n",
       "    <tr>\n",
       "      <th>South Korea</th>\n",
       "      <td>62.950000</td>\n",
       "      <td>53.250000</td>\n",
       "      <td>66.400000</td>\n",
       "      <td>54.500000</td>\n",
       "      <td>54.233333</td>\n",
       "      <td>47.033333</td>\n",
       "    </tr>\n",
       "    <tr>\n",
       "      <th>Spain</th>\n",
       "      <td>33.350000</td>\n",
       "      <td>16.100000</td>\n",
       "      <td>NaN</td>\n",
       "      <td>27.100000</td>\n",
       "      <td>28.300000</td>\n",
       "      <td>35.133333</td>\n",
       "    </tr>\n",
       "    <tr>\n",
       "      <th>Sweden</th>\n",
       "      <td>59.200000</td>\n",
       "      <td>53.600000</td>\n",
       "      <td>58.275000</td>\n",
       "      <td>50.100000</td>\n",
       "      <td>52.700000</td>\n",
       "      <td>59.400000</td>\n",
       "    </tr>\n",
       "    <tr>\n",
       "      <th>Switzerland</th>\n",
       "      <td>47.475000</td>\n",
       "      <td>37.060000</td>\n",
       "      <td>40.060000</td>\n",
       "      <td>45.433333</td>\n",
       "      <td>49.233333</td>\n",
       "      <td>51.683333</td>\n",
       "    </tr>\n",
       "    <tr>\n",
       "      <th>Taiwan</th>\n",
       "      <td>54.150000</td>\n",
       "      <td>58.500000</td>\n",
       "      <td>65.700000</td>\n",
       "      <td>58.300000</td>\n",
       "      <td>57.300000</td>\n",
       "      <td>58.000000</td>\n",
       "    </tr>\n",
       "    <tr>\n",
       "      <th>Turkey</th>\n",
       "      <td>39.500000</td>\n",
       "      <td>NaN</td>\n",
       "      <td>NaN</td>\n",
       "      <td>22.800000</td>\n",
       "      <td>32.125000</td>\n",
       "      <td>NaN</td>\n",
       "    </tr>\n",
       "    <tr>\n",
       "      <th>United Kingdom</th>\n",
       "      <td>53.029630</td>\n",
       "      <td>45.043333</td>\n",
       "      <td>49.789655</td>\n",
       "      <td>42.975862</td>\n",
       "      <td>45.955556</td>\n",
       "      <td>48.284375</td>\n",
       "    </tr>\n",
       "    <tr>\n",
       "      <th>United States of America</th>\n",
       "      <td>67.167857</td>\n",
       "      <td>57.125490</td>\n",
       "      <td>59.873214</td>\n",
       "      <td>50.766667</td>\n",
       "      <td>53.518333</td>\n",
       "      <td>58.925000</td>\n",
       "    </tr>\n",
       "  </tbody>\n",
       "</table>\n",
       "</div>"
      ],
      "text/plain": [
       "year                           2011       2012       2013       2014  \\\n",
       "country                                                                \n",
       "Australia                 51.833333  55.714286  63.775000  53.771429   \n",
       "Austria                   40.250000  41.200000  46.700000  36.100000   \n",
       "Belgium                   61.000000  50.533333  50.925000  44.325000   \n",
       "Brazil                          NaN  58.000000  65.700000        NaN   \n",
       "Canada                    59.000000  51.337500  56.514286  50.700000   \n",
       "China                     47.200000  70.100000  76.400000  65.900000   \n",
       "Denmark                   49.400000  34.900000  41.666667  35.100000   \n",
       "Egypt                     28.000000        NaN        NaN        NaN   \n",
       "Finland                   51.400000  54.200000  53.000000  46.500000   \n",
       "France                    39.933333  31.050000  42.750000  30.183333   \n",
       "Germany                   43.066667  34.254545  44.544444  41.775000   \n",
       "Hong Kong                 49.866667  55.100000  63.600000  62.300000   \n",
       "Israel                          NaN  56.400000  53.000000  37.000000   \n",
       "Italy                           NaN        NaN        NaN        NaN   \n",
       "Japan                     63.100000  57.033333  55.800000  49.033333   \n",
       "Luxembourg                      NaN        NaN        NaN        NaN   \n",
       "Netherlands               54.100000  46.727273  58.150000  49.933333   \n",
       "New Zealand               39.200000  35.000000  40.900000  33.500000   \n",
       "Norway                    42.100000  26.600000        NaN        NaN   \n",
       "Republic of Ireland       45.300000  23.500000  33.500000  25.200000   \n",
       "Russian Federation              NaN        NaN        NaN        NaN   \n",
       "Singapore                 62.150000  63.400000  77.050000  66.050000   \n",
       "South Africa                    NaN  41.100000  45.500000  31.000000   \n",
       "South Korea               62.950000  53.250000  66.400000  54.500000   \n",
       "Spain                     33.350000  16.100000        NaN  27.100000   \n",
       "Sweden                    59.200000  53.600000  58.275000  50.100000   \n",
       "Switzerland               47.475000  37.060000  40.060000  45.433333   \n",
       "Taiwan                    54.150000  58.500000  65.700000  58.300000   \n",
       "Turkey                    39.500000        NaN        NaN  22.800000   \n",
       "United Kingdom            53.029630  45.043333  49.789655  42.975862   \n",
       "United States of America  67.167857  57.125490  59.873214  50.766667   \n",
       "\n",
       "year                           2015       2016  \n",
       "country                                         \n",
       "Australia                 55.725000  60.675000  \n",
       "Austria                   39.700000  50.500000  \n",
       "Belgium                   45.925000  53.200000  \n",
       "Brazil                          NaN        NaN  \n",
       "Canada                    48.414286  54.600000  \n",
       "China                     51.150000  83.000000  \n",
       "Denmark                   36.700000  41.100000  \n",
       "Egypt                           NaN        NaN  \n",
       "Finland                   48.100000  60.400000  \n",
       "France                    33.360000  36.975000  \n",
       "Germany                   43.750000  49.905556  \n",
       "Hong Kong                 53.000000  60.650000  \n",
       "Israel                          NaN  41.400000  \n",
       "Italy                     46.000000  34.566667  \n",
       "Japan                     49.400000        NaN  \n",
       "Luxembourg                      NaN  26.700000  \n",
       "Netherlands               52.381818  55.400000  \n",
       "New Zealand               33.400000  39.500000  \n",
       "Norway                          NaN  31.500000  \n",
       "Republic of Ireland       30.300000  30.800000  \n",
       "Russian Federation        42.100000  66.700000  \n",
       "Singapore                 67.000000  72.900000  \n",
       "South Africa              35.300000  38.700000  \n",
       "South Korea               54.233333  47.033333  \n",
       "Spain                     28.300000  35.133333  \n",
       "Sweden                    52.700000  59.400000  \n",
       "Switzerland               49.233333  51.683333  \n",
       "Taiwan                    57.300000  58.000000  \n",
       "Turkey                    32.125000        NaN  \n",
       "United Kingdom            45.955556  48.284375  \n",
       "United States of America  53.518333  58.925000  "
      ]
     },
     "execution_count": 38,
     "metadata": {},
     "output_type": "execute_result"
    }
   ],
   "source": [
    "pivot_table = data_cleaned.pivot_table(\n",
    "    values=\"research\",  # The column you want to aggregate\n",
    "    index=[\"country\"],     # Columns to group by (rows in the pivot table)\n",
    "    columns=[\"year\"],      # Columns for creating separate columns in the pivot table\n",
    "    aggfunc=\"mean\"         # Aggregation function (mean in this case)\n",
    ")\n",
    "\n",
    "pivot_table"
   ]
  },
  {
   "cell_type": "markdown",
   "id": "acbadde6",
   "metadata": {
    "papermill": {
     "duration": 0.118716,
     "end_time": "2025-01-09T09:35:21.083274",
     "exception": false,
     "start_time": "2025-01-09T09:35:20.964558",
     "status": "completed"
    },
    "tags": []
   },
   "source": [
    "### Outlier Detection"
   ]
  },
  {
   "cell_type": "code",
   "execution_count": 39,
   "id": "4076b759",
   "metadata": {
    "execution": {
     "iopub.execute_input": "2025-01-09T09:35:21.320760Z",
     "iopub.status.busy": "2025-01-09T09:35:21.320351Z",
     "iopub.status.idle": "2025-01-09T09:35:21.756242Z",
     "shell.execute_reply": "2025-01-09T09:35:21.755128Z"
    },
    "papermill": {
     "duration": 0.55682,
     "end_time": "2025-01-09T09:35:21.757988",
     "exception": false,
     "start_time": "2025-01-09T09:35:21.201168",
     "status": "completed"
    },
    "tags": []
   },
   "outputs": [
    {
     "data": {
      "image/png": "[encoded data removed]",
      "text/plain": [
       "<Figure size 640x480 with 1 Axes>"
      ]
     },
     "metadata": {},
     "output_type": "display_data"
    }
   ],
   "source": [
    "# Outlier detection for the 'citations' variable\n",
    "citations = data_cleaned.citations\n",
    "plt.hist(citations, bins =200)\n",
    "plt.show()"
   ]
  },
  {
   "cell_type": "code",
   "execution_count": 40,
   "id": "27215f61",
   "metadata": {
    "execution": {
     "iopub.execute_input": "2025-01-09T09:35:21.997874Z",
     "iopub.status.busy": "2025-01-09T09:35:21.997409Z",
     "iopub.status.idle": "2025-01-09T09:35:22.005822Z",
     "shell.execute_reply": "2025-01-09T09:35:22.004628Z"
    },
    "papermill": {
     "duration": 0.129633,
     "end_time": "2025-01-09T09:35:22.007587",
     "exception": false,
     "start_time": "2025-01-09T09:35:21.877954",
     "status": "completed"
    },
    "tags": []
   },
   "outputs": [
    {
     "name": "stdout",
     "output_type": "stream",
     "text": [
      "Q1: 67.2\n",
      "Q3: 89.6\n",
      "IQR: 22.39999999999999\n"
     ]
    }
   ],
   "source": [
    "Q1 = np.percentile(citations, 25) # First quartile\n",
    "print(\"Q1:\", Q1)\n",
    "\n",
    "Q3 = np.percentile(citations, 75) # Third quartile\n",
    "print(\"Q3:\", Q3)\n",
    "\n",
    "IQR = Q3 - Q1 # Interquartile range\n",
    "print(\"IQR:\", IQR)"
   ]
  },
  {
   "cell_type": "code",
   "execution_count": 41,
   "id": "c01c078e",
   "metadata": {
    "execution": {
     "iopub.execute_input": "2025-01-09T09:35:22.310275Z",
     "iopub.status.busy": "2025-01-09T09:35:22.309880Z",
     "iopub.status.idle": "2025-01-09T09:35:22.316226Z",
     "shell.execute_reply": "2025-01-09T09:35:22.314864Z"
    },
    "papermill": {
     "duration": 0.190643,
     "end_time": "2025-01-09T09:35:22.318181",
     "exception": false,
     "start_time": "2025-01-09T09:35:22.127538",
     "status": "completed"
    },
    "tags": []
   },
   "outputs": [
    {
     "name": "stdout",
     "output_type": "stream",
     "text": [
      "upper_level: 123.19999999999999\n",
      "lower_level: 33.600000000000016\n"
     ]
    }
   ],
   "source": [
    "# Define upper and lower bounds for outliers\n",
    "outlier_step = 1.5 * IQR\n",
    "upper_level = Q3 + outlier_step\n",
    "lower_level = Q1 - outlier_step\n",
    "print(\"upper_level:\", upper_level)\n",
    "print(\"lower_level:\", lower_level)"
   ]
  },
  {
   "cell_type": "markdown",
   "id": "fca3a2a4",
   "metadata": {
    "papermill": {
     "duration": 0.119093,
     "end_time": "2025-01-09T09:35:22.557059",
     "exception": false,
     "start_time": "2025-01-09T09:35:22.437966",
     "status": "completed"
    },
    "tags": []
   },
   "source": [
    "Here, we examined which values ​​are outliers for citations."
   ]
  },
  {
   "cell_type": "code",
   "execution_count": 42,
   "id": "34be7b25",
   "metadata": {
    "execution": {
     "iopub.execute_input": "2025-01-09T09:35:22.800057Z",
     "iopub.status.busy": "2025-01-09T09:35:22.799592Z",
     "iopub.status.idle": "2025-01-09T09:35:22.806949Z",
     "shell.execute_reply": "2025-01-09T09:35:22.805636Z"
    },
    "papermill": {
     "duration": 0.130215,
     "end_time": "2025-01-09T09:35:22.808817",
     "exception": false,
     "start_time": "2025-01-09T09:35:22.678602",
     "status": "completed"
    },
    "tags": []
   },
   "outputs": [
    {
     "name": "stdout",
     "output_type": "stream",
     "text": [
      "150     29.0\n",
      "180     32.9\n",
      "193     29.2\n",
      "303     31.2\n",
      "378     18.8\n",
      "761     30.2\n",
      "1963     8.6\n",
      "Name: citations, dtype: float64\n"
     ]
    }
   ],
   "source": [
    "outlier_list_col = citations[(citations < lower_level) | (citations > upper_level)]\n",
    "print(outlier_list_col)"
   ]
  },
  {
   "cell_type": "markdown",
   "id": "d5c23d97",
   "metadata": {
    "papermill": {
     "duration": 0.120782,
     "end_time": "2025-01-09T09:35:23.049731",
     "exception": false,
     "start_time": "2025-01-09T09:35:22.928949",
     "status": "completed"
    },
    "tags": []
   },
   "source": [
    "This time, let's define a function to determine whether there is any feature outlier in the data set and then visualize it in the form of boxplot and histogram within this function."
   ]
  },
  {
   "cell_type": "code",
   "execution_count": 43,
   "id": "e706eab2",
   "metadata": {
    "execution": {
     "iopub.execute_input": "2025-01-09T09:35:23.291862Z",
     "iopub.status.busy": "2025-01-09T09:35:23.291467Z",
     "iopub.status.idle": "2025-01-09T09:35:23.300368Z",
     "shell.execute_reply": "2025-01-09T09:35:23.299223Z"
    },
    "papermill": {
     "duration": 0.132135,
     "end_time": "2025-01-09T09:35:23.302110",
     "exception": false,
     "start_time": "2025-01-09T09:35:23.169975",
     "status": "completed"
    },
    "tags": []
   },
   "outputs": [],
   "source": [
    "# Anomaly detection function\n",
    "def detect_and_visualize_anomalies(data, feature):\n",
    "    # Select the feature data\n",
    "    feature_data = data[feature]\n",
    "    \n",
    "    # Calculate Q1, Q3, and IQR\n",
    "    Q1 = np.percentile(feature_data, 25)  # First quartile\n",
    "    Q3 = np.percentile(feature_data, 75)  # Third quartile\n",
    "    IQR = Q3 - Q1  # Interquartile range\n",
    "    \n",
    "    # Define bounds for outliers\n",
    "    outlier_step = 1.5 * IQR\n",
    "    lower_bound = Q1 - outlier_step\n",
    "    upper_bound = Q3 + outlier_step\n",
    "    \n",
    "    # Identify outliers\n",
    "    anomalies = feature_data[(feature_data < lower_bound) | (feature_data > upper_bound)]\n",
    "    \n",
    "    # Visualization\n",
    "    plt.figure(figsize=(14, 6))\n",
    "    \n",
    "    # Histogram\n",
    "    plt.subplot(1, 2, 1)\n",
    "    plt.hist(feature_data, bins=30, color='skyblue', edgecolor='black')\n",
    "    plt.axvline(lower_bound, color='red', linestyle='dashed', linewidth=1, label='Lower Bound')\n",
    "    plt.axvline(upper_bound, color='green', linestyle='dashed', linewidth=1, label='Upper Bound')\n",
    "    plt.title(f'Histogram of {feature}')\n",
    "    plt.xlabel(feature)\n",
    "    plt.ylabel('Frequency')\n",
    "    plt.legend()\n",
    "    \n",
    "    # Boxplot\n",
    "    plt.subplot(1, 2, 2)\n",
    "    plt.boxplot(feature_data, vert=False, patch_artist=True, \n",
    "                boxprops=dict(facecolor='skyblue', color='black'),\n",
    "                flierprops=dict(marker='o', color='red', markersize=5))\n",
    "    plt.axvline(lower_bound, color='red', linestyle='dashed', linewidth=1, label='Lower Bound')\n",
    "    plt.axvline(upper_bound, color='green', linestyle='dashed', linewidth=1, label='Upper Bound')\n",
    "    plt.title(f'Boxplot of {feature}')\n",
    "    plt.xlabel(feature)\n",
    "    plt.legend()\n",
    "    \n",
    "    plt.tight_layout()\n",
    "    plt.show()\n",
    "    \n",
    "    return anomalies"
   ]
  },
  {
   "cell_type": "markdown",
   "id": "ac8b3766",
   "metadata": {
    "papermill": {
     "duration": 0.121094,
     "end_time": "2025-01-09T09:35:23.541552",
     "exception": false,
     "start_time": "2025-01-09T09:35:23.420458",
     "status": "completed"
    },
    "tags": []
   },
   "source": [
    "Before creating the function, we determined the outliers for citations, now let's see when we run it with the function."
   ]
  },
  {
   "cell_type": "code",
   "execution_count": 44,
   "id": "0ff183fc",
   "metadata": {
    "execution": {
     "iopub.execute_input": "2025-01-09T09:35:23.783967Z",
     "iopub.status.busy": "2025-01-09T09:35:23.783527Z",
     "iopub.status.idle": "2025-01-09T09:35:24.387109Z",
     "shell.execute_reply": "2025-01-09T09:35:24.385935Z"
    },
    "papermill": {
     "duration": 0.726978,
     "end_time": "2025-01-09T09:35:24.388770",
     "exception": false,
     "start_time": "2025-01-09T09:35:23.661792",
     "status": "completed"
    },
    "tags": []
   },
   "outputs": [
    {
     "data": {
      "image/png": "[encoded data removed]",
      "text/plain": [
       "<Figure size 1400x600 with 2 Axes>"
      ]
     },
     "metadata": {},
     "output_type": "display_data"
    },
    {
     "name": "stdout",
     "output_type": "stream",
     "text": [
      "detected anomalies:\n",
      "150     29.0\n",
      "180     32.9\n",
      "193     29.2\n",
      "303     31.2\n",
      "378     18.8\n",
      "761     30.2\n",
      "1963     8.6\n",
      "Name: citations, dtype: float64\n"
     ]
    }
   ],
   "source": [
    "outliers = detect_and_visualize_anomalies(data_cleaned, \"citations\")\n",
    "print(\"detected anomalies:\")\n",
    "print(outliers)"
   ]
  },
  {
   "cell_type": "code",
   "execution_count": 45,
   "id": "aa55a3c9",
   "metadata": {
    "execution": {
     "iopub.execute_input": "2025-01-09T09:35:24.640029Z",
     "iopub.status.busy": "2025-01-09T09:35:24.639598Z",
     "iopub.status.idle": "2025-01-09T09:35:25.179454Z",
     "shell.execute_reply": "2025-01-09T09:35:25.178361Z"
    },
    "papermill": {
     "duration": 0.669774,
     "end_time": "2025-01-09T09:35:25.181269",
     "exception": false,
     "start_time": "2025-01-09T09:35:24.511495",
     "status": "completed"
    },
    "tags": []
   },
   "outputs": [
    {
     "data": {
      "image/png": "[encoded data removed]",
      "text/plain": [
       "<Figure size 1400x600 with 2 Axes>"
      ]
     },
     "metadata": {},
     "output_type": "display_data"
    },
    {
     "name": "stdout",
     "output_type": "stream",
     "text": [
      "detected anomalies:\n",
      "1       97.7\n",
      "2       97.8\n",
      "3       98.3\n",
      "5       90.5\n",
      "8       89.2\n",
      "200     95.7\n",
      "202     94.8\n",
      "203     89.5\n",
      "204     91.5\n",
      "205     90.5\n",
      "206     92.7\n",
      "207     88.8\n",
      "210     92.3\n",
      "602     96.3\n",
      "603     95.0\n",
      "604     89.7\n",
      "606     92.9\n",
      "607     89.5\n",
      "608     91.2\n",
      "612     93.2\n",
      "616     90.0\n",
      "1002    94.4\n",
      "1004    89.0\n",
      "1005    94.7\n",
      "1006    92.9\n",
      "1007    89.9\n",
      "1008    90.6\n",
      "1012    89.5\n",
      "1402    92.2\n",
      "1404    88.6\n",
      "1405    91.5\n",
      "1406    89.7\n",
      "1407    89.1\n",
      "1411    88.5\n",
      "1803    95.6\n",
      "1805    92.5\n",
      "1807    89.4\n",
      "Name: teaching, dtype: float64\n"
     ]
    }
   ],
   "source": [
    "outliers = detect_and_visualize_anomalies(data_cleaned, \"teaching\")\n",
    "print(\"detected anomalies:\")\n",
    "print(outliers)"
   ]
  }
 ],
 "metadata": {
  "kaggle": {
   "accelerator": "none",
   "dataSources": [
    {
     "datasetId": 27,
     "sourceId": 792993,
     "sourceType": "datasetVersion"
    }
   ],
   "dockerImageVersionId": 30822,
   "isGpuEnabled": false,
   "isInternetEnabled": false,
   "language": "python",
   "sourceType": "notebook"
  },
  "kernelspec": {
   "display_name": ".venv",
   "language": "python",
   "name": "python3"
  },
  "language_info": {
   "codemirror_mode": {
    "name": "ipython",
    "version": 3
   },
   "file_extension": ".py",
   "mimetype": "text/x-python",
   "name": "python",
   "nbconvert_exporter": "python",
   "pygments_lexer": "ipython3",
   "version": "3.13.1"
  },
  "papermill": {
   "default_parameters": {},
   "duration": 18.426346,
   "end_time": "2025-01-09T09:35:26.084771",
   "environment_variables": {},
   "exception": null,
   "input_path": "__notebook__.ipynb",
   "output_path": "__notebook__.ipynb",
   "parameters": {},
   "start_time": "2025-01-09T09:35:07.658425",
   "version": "2.6.0"
  }
 },
 "nbformat": 4,
 "nbformat_minor": 5
}
